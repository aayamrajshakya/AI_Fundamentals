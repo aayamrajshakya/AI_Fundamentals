{
  "cells": [
    {
      "cell_type": "markdown",
      "metadata": {
        "id": "6-frn5sKyac-"
      },
      "source": [
        "# CSE 3683 In-class Exercise 1\n",
        "\n",
        "A word ladder problem is this: given a start word and a goal word, find the shortest way to transform the start word into the goal word by changing one letter at a time, such that each change results in a word. For example starting with `cold` we can reach `warm` in 4 steps:\n",
        "\n",
        "`cold` → `cord` → `word` → `ward` → `warm`\n",
        "\n",
        "The word ladder game can be played online here:\n",
        "[https://wordwormdormdork.com/](https://wordwormdormdork.com/)"
      ]
    },
    {
      "cell_type": "markdown",
      "metadata": {
        "id": "AaMQDhNA1GdB"
      },
      "source": [
        "#A: Load a dictionary of words"
      ]
    },
    {
      "cell_type": "code",
      "execution_count": 1,
      "metadata": {
        "id": "SrKflKwE1Fu7",
        "colab": {
          "base_uri": "https://localhost:8080/"
        },
        "outputId": "8b0d235a-7347-401b-8eeb-9c011895547d"
      },
      "outputs": [
        {
          "output_type": "stream",
          "name": "stdout",
          "text": [
            "--2025-02-09 06:10:44--  https://raw.githubusercontent.com/aimacode/aima-data/f6cbea61ad0c21c6b7be826d17af5a8d3a7c2c86/EN-text/wordlist.txt\n",
            "Resolving raw.githubusercontent.com (raw.githubusercontent.com)... 185.199.108.133, 185.199.109.133, 185.199.110.133, ...\n",
            "Connecting to raw.githubusercontent.com (raw.githubusercontent.com)|185.199.108.133|:443... connected.\n",
            "HTTP request sent, awaiting response... 200 OK\n",
            "Length: 1923517 (1.8M) [text/plain]\n",
            "Saving to: ‘wordlist.txt’\n",
            "\n",
            "wordlist.txt        100%[===================>]   1.83M  --.-KB/s    in 0.07s   \n",
            "\n",
            "2025-02-09 06:10:44 (27.3 MB/s) - ‘wordlist.txt’ saved [1923517/1923517]\n",
            "\n"
          ]
        }
      ],
      "source": [
        "# Download the TXT file containing a list of all valid words\n",
        "!wget https://raw.githubusercontent.com/aimacode/aima-data/f6cbea61ad0c21c6b7be826d17af5a8d3a7c2c86/EN-text/wordlist.txt"
      ]
    },
    {
      "cell_type": "code",
      "execution_count": 2,
      "metadata": {
        "id": "mf3akSuM0_5k",
        "colab": {
          "base_uri": "https://localhost:8080/"
        },
        "outputId": "551acf3c-d0a1-4551-bd6c-0780c1ced01f"
      },
      "outputs": [
        {
          "output_type": "stream",
          "name": "stdout",
          "text": [
            "Loaded 173528 words\n"
          ]
        }
      ],
      "source": [
        "# Read the list of valid words from the TXT file and store it in a Python set data structure\n",
        "WORDS = set(open('wordlist.txt').read().split())\n",
        "print('Loaded %d words' % len(WORDS))"
      ]
    },
    {
      "cell_type": "markdown",
      "metadata": {
        "id": "5Ak6Bgsz2bwp"
      },
      "source": [
        "# B: Build a graph of neighboring words"
      ]
    },
    {
      "cell_type": "code",
      "execution_count": 3,
      "metadata": {
        "id": "h4k_fc4e2ohm"
      },
      "outputs": [],
      "source": [
        "# TODO: implement a function that returns a list of all words that are a one-letter change away from a given word\n",
        "import random\n",
        "def get_neighboring_words(word):\n",
        "    \"All words that are one letter away from this word.\"\n",
        "    # for each letter position in word and for each letter in the alphabet,\n",
        "    # attempt to create a new word by replacing one letter\n",
        "    # add the new word to the list of neighbors if it exists in the list of valid words\n",
        "    n = len(word)\n",
        "    alphabet = \"abcdefghijklmnopqrstuvwxyz\"\n",
        "    neighbors = []\n",
        "    for i in range(n):\n",
        "        for ltr in alphabet:\n",
        "            if ltr != word[i]:\n",
        "                new_word = word[:i] + ltr + word[i+1:]\n",
        "                if new_word in WORDS:\n",
        "                    neighbors.append(new_word)\n",
        "    return neighbors"
      ]
    },
    {
      "cell_type": "code",
      "execution_count": 4,
      "metadata": {
        "id": "ncV9PFAr292d",
        "colab": {
          "base_uri": "https://localhost:8080/"
        },
        "outputId": "91f8cb1d-cfc5-4da9-e9bb-c54b0af760f4"
      },
      "outputs": [
        {
          "output_type": "execute_result",
          "data": {
            "text/plain": [
              "['cello', 'hallo', 'hillo', 'hollo', 'hullo', 'helio', 'hells']"
            ]
          },
          "metadata": {},
          "execution_count": 4
        }
      ],
      "source": [
        "get_neighboring_words('hello')\n",
        "# should return ['cello', 'hallo', 'hillo', 'hollo', 'hullo', 'helio', 'hells']"
      ]
    },
    {
      "cell_type": "code",
      "execution_count": 5,
      "metadata": {
        "id": "QOFbAhzC3CAn",
        "colab": {
          "base_uri": "https://localhost:8080/"
        },
        "outputId": "a141b0fe-b670-4413-c015-129bf28a36b0"
      },
      "outputs": [
        {
          "output_type": "execute_result",
          "data": {
            "text/plain": [
              "['preen', 'treen', 'greed', 'greek', 'grees', 'greet']"
            ]
          },
          "metadata": {},
          "execution_count": 5
        }
      ],
      "source": [
        "get_neighboring_words('green')\n",
        "# should return ['preen', 'treen', 'greed', 'greek', 'grees', 'greet']"
      ]
    },
    {
      "cell_type": "code",
      "execution_count": 6,
      "metadata": {
        "id": "DpAHZhSWtdFk",
        "colab": {
          "base_uri": "https://localhost:8080/"
        },
        "outputId": "0a63d086-5f45-4c92-ae4d-534f7fc03895"
      },
      "outputs": [
        {
          "output_type": "execute_result",
          "data": {
            "text/plain": [
              "['chow', 'show']"
            ]
          },
          "metadata": {},
          "execution_count": 6
        }
      ],
      "source": [
        "get_neighboring_words('dhow')"
      ]
    },
    {
      "cell_type": "code",
      "execution_count": 7,
      "metadata": {
        "id": "ULRa0VeRtiat",
        "colab": {
          "base_uri": "https://localhost:8080/"
        },
        "outputId": "2bc0628c-efb6-457f-eb95-9d7118b6a75a"
      },
      "outputs": [
        {
          "output_type": "execute_result",
          "data": {
            "text/plain": [
              "['chow',\n",
              " 'dhow',\n",
              " 'scow',\n",
              " 'slow',\n",
              " 'snow',\n",
              " 'stow',\n",
              " 'shaw',\n",
              " 'shew',\n",
              " 'shod',\n",
              " 'shoe',\n",
              " 'shog',\n",
              " 'shoo',\n",
              " 'shop',\n",
              " 'shot']"
            ]
          },
          "metadata": {},
          "execution_count": 7
        }
      ],
      "source": [
        "get_neighboring_words('show')"
      ]
    },
    {
      "cell_type": "markdown",
      "metadata": {
        "id": "bpyzK58r5fhK"
      },
      "source": [
        "# C: State-space Search"
      ]
    },
    {
      "cell_type": "code",
      "execution_count": 8,
      "metadata": {
        "id": "IC-61dh2eDwu"
      },
      "outputs": [],
      "source": [
        "# TODO: Implement the Breadth-first search algorithm\n",
        "def breadth_first_search(start, goal):\n",
        "    \"Find a shortest sequence of states from start to the goal.\"\n",
        "    frontier = [start] # A queue; can also do frontier = [] >> frontier.append(start)\n",
        "    previous = {start: None}  # start has no previous state; other states will\n",
        "    # iteratively process states that are stored in frontier\n",
        "    # if the goal is found, backtrack to the starting state using the previous pointer\n",
        "    # otherwise, add the neighboring states of the current state to the frontier\n",
        "    # make sure to check if a state has been previously explored before adding it to the frontier\n",
        "\n",
        "    # visited = set()\n",
        "    # visited.add(start)\n",
        "    while len(frontier)>0:\n",
        "        # print(frontier)\n",
        "        s = frontier.pop(0)\n",
        "        if s==goal:\n",
        "            return path(previous, s)\n",
        "        for t in get_neighboring_words(s):\n",
        "            if t not in previous:\n",
        "                frontier.append(t)\n",
        "                previous[t]=s\n",
        "\n",
        "    return \"No solution\"\n",
        "\n",
        "# Helper recursive function that returns a list of states that lead to state s, according to the previous dict\n",
        "def path(previous, s):\n",
        "    return [] if (s is None) else path(previous, previous[s]) + [s]"
      ]
    },
    {
      "cell_type": "code",
      "execution_count": 9,
      "metadata": {
        "id": "Jw7lmiJn5mpK",
        "colab": {
          "base_uri": "https://localhost:8080/"
        },
        "outputId": "68ad7516-436d-4dd3-f379-67ab828b9108"
      },
      "outputs": [
        {
          "output_type": "execute_result",
          "data": {
            "text/plain": [
              "['tree', 'tyee', 'tyre', 'byre', 'bare', 'bark']"
            ]
          },
          "metadata": {},
          "execution_count": 9
        }
      ],
      "source": [
        "breadth_first_search('tree', 'bark')\n"
      ]
    },
    {
      "cell_type": "code",
      "execution_count": 10,
      "metadata": {
        "id": "lx6GeSjC8oj5",
        "colab": {
          "base_uri": "https://localhost:8080/"
        },
        "outputId": "e5887d6e-5666-4214-b578-676fd4d20974"
      },
      "outputs": [
        {
          "output_type": "execute_result",
          "data": {
            "text/plain": [
              "['smart',\n",
              " 'scart',\n",
              " 'scant',\n",
              " 'slant',\n",
              " 'plant',\n",
              " 'plait',\n",
              " 'plain',\n",
              " 'blain',\n",
              " 'brain']"
            ]
          },
          "metadata": {},
          "execution_count": 10
        }
      ],
      "source": [
        "breadth_first_search('smart', 'brain')\n"
      ]
    },
    {
      "cell_type": "code",
      "source": [
        "breadth_first_search('bark', 'woof')"
      ],
      "metadata": {
        "colab": {
          "base_uri": "https://localhost:8080/"
        },
        "id": "Ktl_TYut3bel",
        "outputId": "11b1fa39-01fc-4b23-ffff-ac3840cf7a4c"
      },
      "execution_count": 11,
      "outputs": [
        {
          "output_type": "execute_result",
          "data": {
            "text/plain": [
              "['bark', 'cark', 'cork', 'cook', 'coof', 'woof']"
            ]
          },
          "metadata": {},
          "execution_count": 11
        }
      ]
    },
    {
      "cell_type": "code",
      "execution_count": 12,
      "metadata": {
        "id": "O_pQhSOO8pt1",
        "colab": {
          "base_uri": "https://localhost:8080/"
        },
        "outputId": "0650dd8e-6d75-4e6d-c134-5791212f1ed5"
      },
      "outputs": [
        {
          "output_type": "execute_result",
          "data": {
            "text/plain": [
              "['chow', 'chon', 'coon', 'goon', 'gown', 'down']"
            ]
          },
          "metadata": {},
          "execution_count": 12
        }
      ],
      "source": [
        "breadth_first_search('chow', 'down')"
      ]
    },
    {
      "cell_type": "code",
      "execution_count": 13,
      "metadata": {
        "id": "Kuels7XA61NC"
      },
      "outputs": [],
      "source": [
        "# TODO: Implement the Depth-first search algorithm and compare it to the Breadth-first search algorithm\n",
        "def depth_first_search(start, goal):\n",
        "    frontier = [start] # A queue\n",
        "    previous = {start: None}  # start has no previous state; other states will\n",
        "\n",
        "    # visited = set()\n",
        "    # visited.add(start)\n",
        "    while len(frontier)>0:\n",
        "        # print(frontier)\n",
        "        s = frontier.pop()\n",
        "        if s==goal:\n",
        "            return path(previous, s)\n",
        "        for t in get_neighboring_words(s):\n",
        "            if t not in previous:\n",
        "                frontier.append(t)\n",
        "                previous[t]=s\n",
        "\n",
        "    return \"No solution\""
      ]
    },
    {
      "cell_type": "code",
      "execution_count": 14,
      "metadata": {
        "id": "bCupMIPe661U",
        "colab": {
          "base_uri": "https://localhost:8080/"
        },
        "outputId": "a87045b9-38fb-4ca3-b033-2ba438fa3f0c"
      },
      "outputs": [
        {
          "output_type": "execute_result",
          "data": {
            "text/plain": [
              "['bark',\n",
              " 'bars',\n",
              " 'bays',\n",
              " 'buys',\n",
              " 'buts',\n",
              " 'butt',\n",
              " 'bust',\n",
              " 'busy',\n",
              " 'bury',\n",
              " 'burr',\n",
              " 'buhr',\n",
              " 'buhl',\n",
              " 'bull',\n",
              " 'bulk',\n",
              " 'bunk',\n",
              " 'bunn',\n",
              " 'sunn',\n",
              " 'suns',\n",
              " 'suss',\n",
              " 'sass',\n",
              " 'sash',\n",
              " 'wash',\n",
              " 'wast',\n",
              " 'watt',\n",
              " 'wats',\n",
              " 'waws',\n",
              " 'wawl',\n",
              " 'waul',\n",
              " 'waur',\n",
              " 'wair',\n",
              " 'wain',\n",
              " 'warn',\n",
              " 'wary',\n",
              " 'wavy',\n",
              " 'wave',\n",
              " 'wane',\n",
              " 'wand',\n",
              " 'wynd',\n",
              " 'wyns',\n",
              " 'wyes',\n",
              " 'woes',\n",
              " 'wops',\n",
              " 'tops',\n",
              " 'topi',\n",
              " 'tori',\n",
              " 'tory',\n",
              " 'towy',\n",
              " 'town',\n",
              " 'toon',\n",
              " 'toot',\n",
              " 'tout',\n",
              " 'tour',\n",
              " 'sour',\n",
              " 'sous',\n",
              " 'soys',\n",
              " 'soya',\n",
              " 'sora',\n",
              " 'sort',\n",
              " 'soft',\n",
              " 'sift',\n",
              " 'silt',\n",
              " 'silo',\n",
              " 'solo',\n",
              " 'sole',\n",
              " 'sone',\n",
              " 'song',\n",
              " 'sing',\n",
              " 'sink',\n",
              " 'sick',\n",
              " 'sics',\n",
              " 'sits',\n",
              " 'sith',\n",
              " 'sigh',\n",
              " 'sugh',\n",
              " 'such',\n",
              " 'yuch',\n",
              " 'yuck',\n",
              " 'yock',\n",
              " 'yolk',\n",
              " 'yelk',\n",
              " 'yelp',\n",
              " 'kelp',\n",
              " 'kemp',\n",
              " 'temp',\n",
              " 'tump',\n",
              " 'sump',\n",
              " 'sumo',\n",
              " 'shmo',\n",
              " 'shoo',\n",
              " 'show',\n",
              " 'shew',\n",
              " 'shes',\n",
              " 'sees',\n",
              " 'seer',\n",
              " 'sear',\n",
              " 'seat',\n",
              " 'sext',\n",
              " 'sexy',\n",
              " 'dexy',\n",
              " 'dewy',\n",
              " 'dews',\n",
              " 'deys',\n",
              " 'leys',\n",
              " 'lets',\n",
              " 'lots',\n",
              " 'loti',\n",
              " 'loci',\n",
              " 'loco',\n",
              " 'logo',\n",
              " 'logy',\n",
              " 'pogy',\n",
              " 'posy',\n",
              " 'post',\n",
              " 'pest',\n",
              " 'peso',\n",
              " 'pepo',\n",
              " 'peps',\n",
              " 'pens',\n",
              " 'pend',\n",
              " 'peed',\n",
              " 'peep',\n",
              " 'perp',\n",
              " 'perm',\n",
              " 'term',\n",
              " 'tern',\n",
              " 'teen',\n",
              " 'teel',\n",
              " 'tell',\n",
              " 'tels',\n",
              " 'tegs',\n",
              " 'tugs',\n",
              " 'tuis',\n",
              " 'this',\n",
              " 'thio',\n",
              " 'thro',\n",
              " 'tyro',\n",
              " 'tyre',\n",
              " 'type',\n",
              " 'tape',\n",
              " 'tapa',\n",
              " 'taxa',\n",
              " 'taxi',\n",
              " 'tali',\n",
              " 'talk',\n",
              " 'task',\n",
              " 'tusk',\n",
              " 'tush',\n",
              " 'tosh',\n",
              " 'nosh',\n",
              " 'nose',\n",
              " 'note',\n",
              " 'nota',\n",
              " 'nona',\n",
              " 'nana',\n",
              " 'nans',\n",
              " 'naps',\n",
              " 'nips',\n",
              " 'nipa',\n",
              " 'lipa',\n",
              " 'lipe',\n",
              " 'live',\n",
              " 'love',\n",
              " 'lowe',\n",
              " 'yowe',\n",
              " 'yows',\n",
              " 'yoks',\n",
              " 'yuks',\n",
              " 'yups',\n",
              " 'dups',\n",
              " 'dupe',\n",
              " 'dure',\n",
              " 'durn',\n",
              " 'curn',\n",
              " 'curt',\n",
              " 'cunt',\n",
              " 'cent',\n",
              " 'celt',\n",
              " 'colt',\n",
              " 'coly',\n",
              " 'cozy',\n",
              " 'oozy',\n",
              " 'ooze',\n",
              " 'doze',\n",
              " 'dome',\n",
              " 'doms',\n",
              " 'doss',\n",
              " 'diss',\n",
              " 'disk',\n",
              " 'dirk',\n",
              " 'dirt',\n",
              " 'dint',\n",
              " 'dine',\n",
              " 'dite',\n",
              " 'dita',\n",
              " 'diva',\n",
              " 'deva',\n",
              " 'leva',\n",
              " 'levo',\n",
              " 'leno',\n",
              " 'lino',\n",
              " 'liny',\n",
              " 'limy',\n",
              " 'limp',\n",
              " 'lisp',\n",
              " 'list',\n",
              " 'mist',\n",
              " 'mise',\n",
              " 'mire',\n",
              " 'miry',\n",
              " 'mity',\n",
              " 'pity',\n",
              " 'pixy',\n",
              " 'nixy',\n",
              " 'nixe',\n",
              " 'nide',\n",
              " 'nidi',\n",
              " 'nodi',\n",
              " 'nods',\n",
              " 'nogs',\n",
              " 'mogs',\n",
              " 'mors',\n",
              " 'morn',\n",
              " 'moan',\n",
              " 'moat',\n",
              " 'mott',\n",
              " 'moth',\n",
              " 'meth',\n",
              " 'mete',\n",
              " 'meze',\n",
              " 'maze',\n",
              " 'mazy',\n",
              " 'many',\n",
              " 'mano',\n",
              " 'mayo',\n",
              " 'maya',\n",
              " 'mama',\n",
              " 'lama',\n",
              " 'lams',\n",
              " 'lavs',\n",
              " 'luvs',\n",
              " 'lues',\n",
              " 'lies',\n",
              " 'lier',\n",
              " 'liar',\n",
              " 'fiar',\n",
              " 'fiat',\n",
              " 'frat',\n",
              " 'fray',\n",
              " 'flay',\n",
              " 'flax',\n",
              " 'flux',\n",
              " 'flus',\n",
              " 'feus',\n",
              " 'feud',\n",
              " 'feod',\n",
              " 'food',\n",
              " 'fool',\n",
              " 'fowl',\n",
              " 'howl',\n",
              " 'howk',\n",
              " 'hook',\n",
              " 'hoop',\n",
              " 'holp',\n",
              " 'hols',\n",
              " 'hons',\n",
              " 'hins',\n",
              " 'hind',\n",
              " 'hied',\n",
              " 'hued',\n",
              " 'sued',\n",
              " 'suet',\n",
              " 'suit',\n",
              " 'spit',\n",
              " 'spiv',\n",
              " 'shiv',\n",
              " 'ship',\n",
              " 'snip',\n",
              " 'snib',\n",
              " 'snub',\n",
              " 'snug',\n",
              " 'snog',\n",
              " 'snot',\n",
              " 'swot',\n",
              " 'swop',\n",
              " 'swap',\n",
              " 'sway',\n",
              " 'stay',\n",
              " 'staw',\n",
              " 'snaw',\n",
              " 'gnaw',\n",
              " 'gnat',\n",
              " 'ghat',\n",
              " 'what',\n",
              " 'whap',\n",
              " 'whop',\n",
              " 'whom',\n",
              " 'whim',\n",
              " 'whid',\n",
              " 'chid',\n",
              " 'chit',\n",
              " 'clit',\n",
              " 'clip',\n",
              " 'clop',\n",
              " 'cloy',\n",
              " 'ploy',\n",
              " 'plow',\n",
              " 'plew',\n",
              " 'pleb',\n",
              " 'bleb',\n",
              " 'blet',\n",
              " 'blot',\n",
              " 'bloc',\n",
              " 'floc',\n",
              " 'flog',\n",
              " 'frog',\n",
              " 'frow',\n",
              " 'trow',\n",
              " 'troy',\n",
              " 'trey',\n",
              " 'trek',\n",
              " 'drek',\n",
              " 'drew',\n",
              " 'draw',\n",
              " 'dram',\n",
              " 'drum',\n",
              " 'drug',\n",
              " 'trug',\n",
              " 'true',\n",
              " 'grue',\n",
              " 'grub',\n",
              " 'grab',\n",
              " 'gran',\n",
              " 'grin',\n",
              " 'grit',\n",
              " 'gait',\n",
              " 'bait',\n",
              " 'bail',\n",
              " 'boil',\n",
              " 'roil',\n",
              " 'rotl',\n",
              " 'roto',\n",
              " 'rato',\n",
              " 'rath',\n",
              " 'path',\n",
              " 'pate',\n",
              " 'pase',\n",
              " 'vase',\n",
              " 'vasa',\n",
              " 'vara',\n",
              " 'vera',\n",
              " 'very',\n",
              " 'eery',\n",
              " 'eely',\n",
              " 'rely',\n",
              " 'ruly',\n",
              " 'rule',\n",
              " 'ruse',\n",
              " 'fuse',\n",
              " 'fuze',\n",
              " 'fuzz',\n",
              " 'futz',\n",
              " 'lutz',\n",
              " 'lute',\n",
              " 'lune',\n",
              " 'lung',\n",
              " 'lang',\n",
              " 'lank',\n",
              " 'lack',\n",
              " 'lacy',\n",
              " 'laky',\n",
              " 'lake',\n",
              " 'lade',\n",
              " 'sade',\n",
              " 'sadi',\n",
              " 'sari',\n",
              " 'sard',\n",
              " 'said',\n",
              " 'slid',\n",
              " 'slim',\n",
              " 'slum',\n",
              " 'slut',\n",
              " 'shut',\n",
              " 'shun',\n",
              " 'stun',\n",
              " 'stud',\n",
              " 'spud',\n",
              " 'spue',\n",
              " 'spae',\n",
              " 'spas',\n",
              " 'skas',\n",
              " 'skag',\n",
              " 'skeg',\n",
              " 'skep',\n",
              " 'step',\n",
              " 'stem',\n",
              " 'item',\n",
              " 'idem',\n",
              " 'ides',\n",
              " 'ires',\n",
              " 'ired',\n",
              " 'irid',\n",
              " 'imid',\n",
              " 'amid',\n",
              " 'amis',\n",
              " 'amus',\n",
              " 'anus',\n",
              " 'ants',\n",
              " 'anta',\n",
              " 'anoa',\n",
              " 'anon',\n",
              " 'azon',\n",
              " 'azan',\n",
              " 'alan',\n",
              " 'alas',\n",
              " 'alps',\n",
              " 'asps',\n",
              " 'asks',\n",
              " 'arks',\n",
              " 'arms',\n",
              " 'aims',\n",
              " 'airs',\n",
              " 'airn',\n",
              " 'pirn',\n",
              " 'pion',\n",
              " 'peon',\n",
              " 'pein',\n",
              " 'pyin',\n",
              " 'tyin',\n",
              " 'twin',\n",
              " 'twit',\n",
              " 'twat',\n",
              " 'twas',\n",
              " 'twos',\n",
              " 'taos',\n",
              " 'taus',\n",
              " 'vaus',\n",
              " 'vacs',\n",
              " 'pacs',\n",
              " 'pact',\n",
              " 'part',\n",
              " 'parr',\n",
              " 'carr',\n",
              " 'carp',\n",
              " 'camp',\n",
              " 'came',\n",
              " 'cage',\n",
              " 'cagy',\n",
              " 'sagy',\n",
              " 'sago',\n",
              " 'dago',\n",
              " 'dags',\n",
              " 'dals',\n",
              " 'dale',\n",
              " 'dace',\n",
              " 'race',\n",
              " 'rare',\n",
              " 'hare',\n",
              " 'harm',\n",
              " 'halm',\n",
              " 'halt',\n",
              " 'haut',\n",
              " 'maut',\n",
              " 'maun',\n",
              " 'mawn',\n",
              " 'yawn',\n",
              " 'yawp',\n",
              " 'yaup',\n",
              " 'yaud',\n",
              " 'yald',\n",
              " 'bald',\n",
              " 'bold',\n",
              " 'bola',\n",
              " 'tola',\n",
              " 'tolu',\n",
              " 'tofu',\n",
              " 'toff',\n",
              " 'tuff',\n",
              " 'tufa',\n",
              " 'tuna',\n",
              " 'puna',\n",
              " 'puma',\n",
              " 'pima',\n",
              " 'pika',\n",
              " 'piki',\n",
              " 'pili',\n",
              " 'pill',\n",
              " 'pial',\n",
              " 'pias',\n",
              " 'pigs',\n",
              " 'vigs',\n",
              " 'viga',\n",
              " 'giga',\n",
              " 'gaga',\n",
              " 'gala',\n",
              " 'gall',\n",
              " 'sall',\n",
              " 'salp',\n",
              " 'palp',\n",
              " 'pulp',\n",
              " 'puls',\n",
              " 'purs',\n",
              " 'purl',\n",
              " 'nurl',\n",
              " 'nurd',\n",
              " 'nerd',\n",
              " 'herd',\n",
              " 'hers',\n",
              " 'hems',\n",
              " 'heme',\n",
              " 'seme',\n",
              " 'sere',\n",
              " 'serf',\n",
              " 'self',\n",
              " 'pelf',\n",
              " 'pele',\n",
              " 'peke',\n",
              " 'puke',\n",
              " 'puce',\n",
              " 'pice',\n",
              " 'vice',\n",
              " 'vile',\n",
              " 'wile',\n",
              " 'wily',\n",
              " 'oily',\n",
              " 'oils',\n",
              " 'owls',\n",
              " 'owns',\n",
              " 'awns',\n",
              " 'awes',\n",
              " 'awee',\n",
              " 'alee',\n",
              " 'aloe',\n",
              " 'sloe',\n",
              " 'slob',\n",
              " 'slab',\n",
              " 'scab',\n",
              " 'scam',\n",
              " 'sham',\n",
              " 'cham',\n",
              " 'chaw',\n",
              " 'claw',\n",
              " 'clag',\n",
              " 'crag',\n",
              " 'crap',\n",
              " 'trap',\n",
              " 'trad',\n",
              " 'toad',\n",
              " 'toed',\n",
              " 'coed',\n",
              " 'cord',\n",
              " 'corm',\n",
              " 'worm',\n",
              " 'work',\n",
              " 'wonk',\n",
              " 'conk',\n",
              " 'conn',\n",
              " 'coin',\n",
              " 'coif',\n",
              " 'coof',\n",
              " 'woof']"
            ]
          },
          "metadata": {},
          "execution_count": 14
        }
      ],
      "source": [
        "depth_first_search('bark', 'woof')"
      ]
    },
    {
      "cell_type": "code",
      "execution_count": 15,
      "metadata": {
        "colab": {
          "base_uri": "https://localhost:8080/"
        },
        "id": "boXt8vMC2wvH",
        "outputId": "15e8ddc8-2918-486f-fb62-e6128f415a29"
      },
      "outputs": [
        {
          "output_type": "execute_result",
          "data": {
            "text/plain": [
              "['bark', 'cark', 'cork', 'cook', 'coof', 'woof']"
            ]
          },
          "metadata": {},
          "execution_count": 15
        }
      ],
      "source": [
        "breadth_first_search('bark', 'woof')"
      ]
    }
  ],
  "metadata": {
    "colab": {
      "provenance": []
    },
    "kernelspec": {
      "display_name": "Python 3 (ipykernel)",
      "language": "python",
      "name": "python3"
    },
    "language_info": {
      "codemirror_mode": {
        "name": "ipython",
        "version": 3
      },
      "file_extension": ".py",
      "mimetype": "text/x-python",
      "name": "python",
      "nbconvert_exporter": "python",
      "pygments_lexer": "ipython3",
      "version": "3.12.5"
    }
  },
  "nbformat": 4,
  "nbformat_minor": 0
}