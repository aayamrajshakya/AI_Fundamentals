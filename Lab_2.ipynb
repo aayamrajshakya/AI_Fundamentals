{
  "cells": [
    {
      "cell_type": "markdown",
      "source": [
        "# CSE 3683 In-class Exercise: Neural Networks in PyTorch\n",
        "\n",
        "In this assignment, we will implement a deep learning pipeline in PyTorch to perform image classification. The deep learning pipeline will involve data loading, neural network architecture design, loss function design, optimization, training, and evaluation.\n",
        "\n",
        "The dataset for this assignment is taken from [Fashion MNIST](https://www.kaggle.com/datasets/zalando-research/fashionmnist). It consists of a training set of 60,000 examples and a test set of 10,000 examples. Each example is a 28x28 grayscale image, associated with a label from 10 classes.\n",
        "\n",
        "The neural network architecture is a simple network with 3 linear layers and Rectified Linear Units (ReLU) as activation functions.\n",
        "\n",
        "This exercise is a modified version of the official PyTorch tutorial, which can be found here:\n",
        "[link](https://pytorch.org/tutorials/beginner/basics/quickstart_tutorial.html).\n"
      ],
      "metadata": {
        "id": "FK2oZhJlJnz5"
      }
    },
    {
      "cell_type": "markdown",
      "source": [
        "Tensors in PyTorch\n",
        "---\n",
        "\n",
        "Tensors are a specialized data structure that are very similar to arrays and matrices. In PyTorch, we use tensors to encode the inputs and outputs of a model, as well as the model's parameters.\n",
        "\n",
        "Tensors are similar to NumPy's ndarrays, except that tensors can run on GPUs or other hardware accelerators."
      ],
      "metadata": {
        "id": "2NQsRzXTmboY"
      }
    },
    {
      "cell_type": "code",
      "source": [
        "import torch\n",
        "import numpy as np"
      ],
      "metadata": {
        "id": "rucZE-o8nUTY"
      },
      "execution_count": 1,
      "outputs": []
    },
    {
      "cell_type": "markdown",
      "source": [
        "Tensors can be initialized directly from constant values. The data type is automatically inferred."
      ],
      "metadata": {
        "id": "DlB58P-CntJC"
      }
    },
    {
      "cell_type": "code",
      "source": [
        "data = [[1, 2],[3, 4]]\n",
        "x1 = torch.tensor(data)\n",
        "print(x1)"
      ],
      "metadata": {
        "id": "Yc5X5eUznO8E",
        "colab": {
          "base_uri": "https://localhost:8080/"
        },
        "outputId": "71dfbfaa-71a1-40d5-e50c-e212d033929d"
      },
      "execution_count": 2,
      "outputs": [
        {
          "output_type": "stream",
          "name": "stdout",
          "text": [
            "tensor([[1, 2],\n",
            "        [3, 4]])\n"
          ]
        }
      ]
    },
    {
      "cell_type": "markdown",
      "source": [
        "Tensors can also be created from a NumPy array"
      ],
      "metadata": {
        "id": "e2OlHH7ynlf5"
      }
    },
    {
      "cell_type": "code",
      "source": [
        "np_array = np.array([[3,4], [5,6]])\n",
        "x2 = torch.from_numpy(np_array)\n",
        "print(x2)"
      ],
      "metadata": {
        "id": "h8BuBTxcmdy2",
        "colab": {
          "base_uri": "https://localhost:8080/"
        },
        "outputId": "c19f5e9e-71ff-4fd5-a224-5532f41c8021"
      },
      "execution_count": 3,
      "outputs": [
        {
          "output_type": "stream",
          "name": "stdout",
          "text": [
            "tensor([[3, 4],\n",
            "        [5, 6]])\n"
          ]
        }
      ]
    },
    {
      "cell_type": "markdown",
      "source": [
        "Tensor attributes describe their shape, datatype, and the device on which they are stored."
      ],
      "metadata": {
        "id": "1pPeMPADn9eC"
      }
    },
    {
      "cell_type": "code",
      "source": [
        "print(f\"Shape of tensor: {x1.shape}\")\n",
        "print(f\"Datatype of tensor: {x1.dtype}\")\n",
        "print(f\"Device tensor is stored on: {x1.device}\")"
      ],
      "metadata": {
        "id": "sY231Uswn-EH",
        "colab": {
          "base_uri": "https://localhost:8080/"
        },
        "outputId": "35e909d0-3f39-442c-f080-5061d3688483"
      },
      "execution_count": 4,
      "outputs": [
        {
          "output_type": "stream",
          "name": "stdout",
          "text": [
            "Shape of tensor: torch.Size([2, 2])\n",
            "Datatype of tensor: torch.int64\n",
            "Device tensor is stored on: cpu\n"
          ]
        }
      ]
    },
    {
      "cell_type": "markdown",
      "source": [
        "PyTorch supports a wide variety of tensor operations, including arithmetic, linear algebra, matrix manipulation (transposing, indexing, slicing), and sampling."
      ],
      "metadata": {
        "id": "ohZvUIQSs5KS"
      }
    },
    {
      "cell_type": "code",
      "source": [
        "print(\"Addition:\")\n",
        "print(x1 + x2)\n",
        "\n",
        "print(\"Element-wise multiplication\")\n",
        "print(x1 * x2)\n",
        "\n",
        "print(\"Matrix multiplication\")\n",
        "print(x1.matmul(x2))"
      ],
      "metadata": {
        "id": "r3j5xn4eoVJp",
        "colab": {
          "base_uri": "https://localhost:8080/"
        },
        "outputId": "8474b78a-f0f9-4bda-8805-cf82ffc0ac21"
      },
      "execution_count": 5,
      "outputs": [
        {
          "output_type": "stream",
          "name": "stdout",
          "text": [
            "Addition:\n",
            "tensor([[ 4,  6],\n",
            "        [ 8, 10]])\n",
            "Element-wise multiplication\n",
            "tensor([[ 3,  8],\n",
            "        [15, 24]])\n",
            "Matrix multiplication\n",
            "tensor([[13, 16],\n",
            "        [29, 36]])\n"
          ]
        }
      ]
    },
    {
      "cell_type": "markdown",
      "source": [
        "PyTorch operations can be run on either the CPU or an accelerator such as CUDA, MPS, MTIA, or XPU. By default, tensors are created on the CPU. We can create tensors on a GPU accelerator by specifying the device or explicitly moving tensors to the accelerator using .to() method."
      ],
      "metadata": {
        "id": "I4QTxnO_vCtD"
      }
    },
    {
      "cell_type": "code",
      "source": [
        "# check if CUDA acceleration is available\n",
        "print(torch.cuda.is_available())"
      ],
      "metadata": {
        "id": "QD6gI84IvpN9",
        "colab": {
          "base_uri": "https://localhost:8080/"
        },
        "outputId": "c6430bc3-b7f6-4631-a151-f67d9c67a6b0"
      },
      "execution_count": 6,
      "outputs": [
        {
          "output_type": "stream",
          "name": "stdout",
          "text": [
            "True\n"
          ]
        }
      ]
    },
    {
      "cell_type": "code",
      "source": [
        "print(x1)\n",
        "print(f\"Device tensor is stored on: {x1.device}\")\n",
        "x2 = x1.to(\"cuda\")\n",
        "print(x2)\n",
        "print(f\"Device tensor is stored on: {x2.device}\")\n",
        "x3 = x2.to(\"cpu\")\n",
        "print(x2)\n",
        "print(f\"Device tensor is stored on: {x3.device}\")"
      ],
      "metadata": {
        "id": "WPq1JHcavlLr",
        "colab": {
          "base_uri": "https://localhost:8080/"
        },
        "outputId": "4ed3ffc9-ae7c-4421-cf24-38c4a90f9f10"
      },
      "execution_count": 7,
      "outputs": [
        {
          "output_type": "stream",
          "name": "stdout",
          "text": [
            "tensor([[1, 2],\n",
            "        [3, 4]])\n",
            "Device tensor is stored on: cpu\n",
            "tensor([[1, 2],\n",
            "        [3, 4]], device='cuda:0')\n",
            "Device tensor is stored on: cuda:0\n",
            "tensor([[1, 2],\n",
            "        [3, 4]], device='cuda:0')\n",
            "Device tensor is stored on: cpu\n"
          ]
        }
      ]
    },
    {
      "cell_type": "markdown",
      "source": [
        "GPU acceleration can result in a large speedup when perform operations with large matrices.\n",
        "\n",
        "Google Colab allows using a T4 GPUs for free accounts whereas premium GPUs require a subscription"
      ],
      "metadata": {
        "id": "2FbytsmPwGBC"
      }
    },
    {
      "cell_type": "code",
      "source": [
        "import time\n",
        "\n",
        "# create a 5000x5000 matrix with random numbers on CPU\n",
        "x1 = torch.randn(5000, 5000)\n",
        "\n",
        "# create a 5000x5000 matrix with random numbers on CPU\n",
        "x2 = torch.randn(5000, 5000)\n",
        "\n",
        "start_time = time.time()\n",
        "y = torch.matmul(x1, x2)\n",
        "elapsed_time = time.time() - start_time\n",
        "print('CPU_time = ',elapsed_time)"
      ],
      "metadata": {
        "id": "_Rg7R1kkwQQu",
        "colab": {
          "base_uri": "https://localhost:8080/"
        },
        "outputId": "f9b838ec-860c-41cf-a247-79d8fdd2cb6b"
      },
      "execution_count": 8,
      "outputs": [
        {
          "output_type": "stream",
          "name": "stdout",
          "text": [
            "CPU_time =  2.893261432647705\n"
          ]
        }
      ]
    },
    {
      "cell_type": "code",
      "source": [
        "import time\n",
        "\n",
        "# create a 5000x5000 matrix with random numbers on GPU\n",
        "x1 = torch.randn(5000, 5000, device='cuda')\n",
        "\n",
        "# create a 5000x5000 matrix with random numbers on GPU\n",
        "x2 = torch.randn(5000, 5000, device='cuda')\n",
        "\n",
        "start_time = time.time()\n",
        "y = torch.matmul(x1, x2)\n",
        "elapsed_time = time.time() - start_time\n",
        "print('GPU_time = ',elapsed_time)"
      ],
      "metadata": {
        "id": "P3UlzWwKwi1j",
        "colab": {
          "base_uri": "https://localhost:8080/"
        },
        "outputId": "5f59cffa-9e71-4d4f-c2f5-15f232530d22"
      },
      "execution_count": 9,
      "outputs": [
        {
          "output_type": "stream",
          "name": "stdout",
          "text": [
            "GPU_time =  0.05354714393615723\n"
          ]
        }
      ]
    },
    {
      "cell_type": "markdown",
      "metadata": {
        "id": "T1AnbuJolVex"
      },
      "source": [
        "\n",
        "Data Loading\n",
        "-----------------\n",
        "\n",
        "PyTorch has two [primitives to work with\n",
        "data](https://pytorch.org/docs/stable/data.html):\n",
        "`torch.utils.data.DataLoader` and `torch.utils.data.Dataset`. `Dataset`\n",
        "stores the samples and their corresponding labels, and `DataLoader`\n",
        "wraps an iterable around the `Dataset`.\n"
      ]
    },
    {
      "cell_type": "code",
      "execution_count": 10,
      "metadata": {
        "id": "FzsfbdWSlVez"
      },
      "outputs": [],
      "source": [
        "from torch import nn\n",
        "from torch.utils.data import DataLoader\n",
        "from torchvision import datasets\n",
        "from torchvision.transforms import ToTensor"
      ]
    },
    {
      "cell_type": "markdown",
      "metadata": {
        "id": "tBY15QIJlVez"
      },
      "source": [
        "PyTorch offers domain-specific libraries such as\n",
        "[TorchText](https://pytorch.org/text/stable/index.html),\n",
        "[TorchVision](https://pytorch.org/vision/stable/index.html), and\n",
        "[TorchAudio](https://pytorch.org/audio/stable/index.html), all of which\n",
        "include datasets. For this tutorial, we will be using a TorchVision\n",
        "dataset.\n",
        "\n",
        "The `torchvision.datasets` module contains `Dataset` objects for many\n",
        "real-world vision data like CIFAR, COCO ([full list\n",
        "here](https://pytorch.org/vision/stable/datasets.html)). In this\n",
        "tutorial, we use the FashionMNIST dataset. Every TorchVision `Dataset`\n",
        "includes two arguments: `transform` and `target_transform` to modify the\n",
        "samples and labels respectively.\n"
      ]
    },
    {
      "cell_type": "code",
      "execution_count": 11,
      "metadata": {
        "id": "PBxx8z8vlVez"
      },
      "outputs": [],
      "source": [
        "# Download training data from open datasets.\n",
        "training_data = datasets.FashionMNIST(\n",
        "    root=\"data\",\n",
        "    train=True,\n",
        "    download=True,\n",
        "    transform=ToTensor(),\n",
        ")\n",
        "\n",
        "# Download test data from open datasets.\n",
        "test_data = datasets.FashionMNIST(\n",
        "    root=\"data\",\n",
        "    train=False,\n",
        "    download=True,\n",
        "    transform=ToTensor(),\n",
        ")"
      ]
    },
    {
      "cell_type": "code",
      "source": [
        "print(\"Training Data\")\n",
        "print(training_data)\n",
        "print(\"Test Data\")\n",
        "print(test_data)"
      ],
      "metadata": {
        "id": "e-FFblRoyDSk",
        "colab": {
          "base_uri": "https://localhost:8080/"
        },
        "outputId": "a01b3bd8-a911-4edd-c2c9-21936d2fa9bd"
      },
      "execution_count": 12,
      "outputs": [
        {
          "output_type": "stream",
          "name": "stdout",
          "text": [
            "Training Data\n",
            "Dataset FashionMNIST\n",
            "    Number of datapoints: 60000\n",
            "    Root location: data\n",
            "    Split: Train\n",
            "    StandardTransform\n",
            "Transform: ToTensor()\n",
            "Test Data\n",
            "Dataset FashionMNIST\n",
            "    Number of datapoints: 10000\n",
            "    Root location: data\n",
            "    Split: Test\n",
            "    StandardTransform\n",
            "Transform: ToTensor()\n"
          ]
        }
      ]
    },
    {
      "cell_type": "code",
      "source": [
        "# Label-mapping for Fashion MNIST dataset\n",
        "label_map = {\n",
        "    0: \"T-Shirt\",\n",
        "    1: \"Trouser\",\n",
        "    2: \"Pullover\",\n",
        "    3: \"Dress\",\n",
        "    4: \"Coat\",\n",
        "    5: \"Sandal\",\n",
        "    6: \"Shirt\",\n",
        "    7: \"Sneaker\",\n",
        "    8: \"Bag\",\n",
        "    9: \"Ankle Boot\",\n",
        "}"
      ],
      "metadata": {
        "id": "lg7Qp-d9x6-T"
      },
      "execution_count": 13,
      "outputs": []
    },
    {
      "cell_type": "code",
      "source": [
        "import matplotlib.pyplot as plt\n",
        "\n",
        "# Visualize the first image in the training dataset\n",
        "first_image = training_data[0][0].reshape((28, 28))\n",
        "first_label = training_data[0][1]\n",
        "\n",
        "# Use the plt.imshow function to plot an image\n",
        "plt.imshow(first_image, cmap=\"gray\")\n",
        "plt.title(\"Image of a %s\" % label_map[first_label])"
      ],
      "metadata": {
        "id": "vBNSYiXXx8Lg",
        "colab": {
          "base_uri": "https://localhost:8080/",
          "height": 470
        },
        "outputId": "ef9cb658-6843-4428-ee32-715fce8eea01"
      },
      "execution_count": 14,
      "outputs": [
        {
          "output_type": "execute_result",
          "data": {
            "text/plain": [
              "Text(0.5, 1.0, 'Image of a Ankle Boot')"
            ]
          },
          "metadata": {},
          "execution_count": 14
        },
        {
          "output_type": "display_data",
          "data": {
            "text/plain": [
              "<Figure size 640x480 with 1 Axes>"
            ],
            "image/png": "[encoded data removed]"
          },
          "metadata": {}
        }
      ]
    },
    {
      "cell_type": "code",
      "source": [
        "# Visualize multiple images\n",
        "figure = plt.figure(figsize=(8, 8))\n",
        "cols, rows = 3, 3\n",
        "for i in range(1, cols * rows + 1):\n",
        "    sample_idx = torch.randint(len(training_data), size=(1,)).item()\n",
        "    img, label = training_data[sample_idx]\n",
        "    figure.add_subplot(rows, cols, i)\n",
        "    plt.title(label_map[label])\n",
        "    plt.axis(\"off\")\n",
        "    plt.imshow(img.squeeze(), cmap=\"gray\")\n",
        "plt.show()"
      ],
      "metadata": {
        "id": "Sj5sJfWV1TeC",
        "colab": {
          "base_uri": "https://localhost:8080/",
          "height": 675
        },
        "outputId": "f5a4daef-57c5-434d-a861-eecc053621a8"
      },
      "execution_count": 15,
      "outputs": [
        {
          "output_type": "display_data",
          "data": {
            "text/plain": [
              "<Figure size 800x800 with 9 Axes>"
            ],
            "image/png": "[encoded data removed]"
          },
          "metadata": {}
        }
      ]
    },
    {
      "cell_type": "markdown",
      "metadata": {
        "id": "8WKzE2FWlVe1"
      },
      "source": [
        "We pass the `Dataset` as an argument to `DataLoader`. This wraps an\n",
        "iterable over our dataset, and supports automatic batching, sampling,\n",
        "shuffling and multiprocess data loading. Here we define a batch size of\n",
        "16, i.e. each element in the dataloader iterable will return a batch of\n",
        "16 features and labels.\n"
      ]
    },
    {
      "cell_type": "code",
      "execution_count": 16,
      "metadata": {
        "id": "wUKN9nQylVe2",
        "colab": {
          "base_uri": "https://localhost:8080/"
        },
        "outputId": "850359f4-f248-4bf3-9e99-6058b62f5cdb"
      },
      "outputs": [
        {
          "output_type": "stream",
          "name": "stdout",
          "text": [
            "Number of batches in the training set: 3750\n",
            "Number of batches in the test set: 625\n",
            "Shape of batched_x [N, C, H, W]: torch.Size([16, 1, 28, 28]) torch.float32\n",
            "Shape of batched_y: torch.Size([16]) torch.int64\n"
          ]
        }
      ],
      "source": [
        "batch_size = 16\n",
        "\n",
        "# Create data loaders.\n",
        "train_dataloader = DataLoader(training_data, batch_size=batch_size)\n",
        "test_dataloader = DataLoader(test_data, batch_size=batch_size)\n",
        "\n",
        "print(f\"Number of batches in the training set: {len(train_dataloader)}\")\n",
        "print(f\"Number of batches in the test set: {len(test_dataloader)}\")\n",
        "\n",
        "for batched_x, batched_y in test_dataloader:\n",
        "    # batched_x is one batch of images\n",
        "    # N, C, H, W = batch_size, channel, height, width\n",
        "    print(f\"Shape of batched_x [N, C, H, W]: {batched_x.shape} {batched_x.dtype}\")\n",
        "\n",
        "    # batched_y is one batch of labels\n",
        "    print(f\"Shape of batched_y: {batched_y.shape} {batched_y.dtype}\")\n",
        "    break"
      ]
    },
    {
      "cell_type": "markdown",
      "metadata": {
        "id": "x94u2fu1lVe2"
      },
      "source": [
        "**TODO**: Try experimenting with different batch sizes and observe how it affects the number of batches and the dimensions of each batch of data\n"
      ]
    },
    {
      "cell_type": "markdown",
      "source": [
        "Read more about [data loaders in PyTorch](https://pytorch.org/tutorials/beginner/basics/data_tutorial.html)"
      ],
      "metadata": {
        "id": "tjS_NuGc7ZEm"
      }
    },
    {
      "cell_type": "markdown",
      "metadata": {
        "id": "etpF3pDllVe2"
      },
      "source": [
        "------------------------------------------------------------------------\n"
      ]
    },
    {
      "cell_type": "markdown",
      "metadata": {
        "id": "tSRkEgcllVe4"
      },
      "source": [
        "Creating Models\n",
        "===============\n",
        "\n",
        "\n"
      ]
    },
    {
      "cell_type": "markdown",
      "source": [
        "Let's create a neural network with 3 layers. The input to the neural network is a batch of 28x28 grayscale images. The output of the neural network is the log probability of each of the 10 classes. Let's examine how the tensor shape and values change as it is passed through the neural network."
      ],
      "metadata": {
        "id": "mIoM4jfx2m6E"
      }
    },
    {
      "cell_type": "code",
      "source": [
        "# first, we need to flatten the input tensor from (64, 1, 28, 28) into (64, 784)\n",
        "flatten_layer = nn.Flatten()\n",
        "x = flatten_layer(batched_x)\n",
        "print(\"Shape of x:\", x.shape)"
      ],
      "metadata": {
        "id": "DZVzuZ_83-Oy",
        "colab": {
          "base_uri": "https://localhost:8080/"
        },
        "outputId": "7129b94c-8164-4c60-ccdb-4de94ea3328e"
      },
      "execution_count": 17,
      "outputs": [
        {
          "output_type": "stream",
          "name": "stdout",
          "text": [
            "Shape of x: torch.Size([16, 784])\n"
          ]
        }
      ]
    },
    {
      "cell_type": "code",
      "source": [
        "# next, let's pass the data through a linear layer with 784 input neurons and 512 output neurons\n",
        "# a linear layer is also known as a fully-connected layer because the output neurons are fully\n",
        "# connected to the input neurons\n",
        "# the output should use ReLU as the non-linear activation function\n",
        "linear_layer_1 = nn.Linear(784, 512)\n",
        "x = linear_layer_1(x)\n",
        "x = nn.ReLU()(x)\n",
        "print(\"Shape of x:\", x.shape)"
      ],
      "metadata": {
        "id": "AkF71tCI4-Go",
        "colab": {
          "base_uri": "https://localhost:8080/"
        },
        "outputId": "9ec68b76-2f52-4f95-f763-e68b7ab19394"
      },
      "execution_count": 18,
      "outputs": [
        {
          "output_type": "stream",
          "name": "stdout",
          "text": [
            "Shape of x: torch.Size([16, 512])\n"
          ]
        }
      ]
    },
    {
      "cell_type": "code",
      "source": [
        "# next, let's pass the data through a second linear layer with 512 input neurons and 512 output neurons\n",
        "# the output should use ReLU as the non-linear activation function\n",
        "linear_layer_2 = nn.Linear(512, 512)\n",
        "x = linear_layer_2(x)\n",
        "x = nn.ReLU()(x)\n",
        "print(\"Shape of batched_x:\", x.shape)"
      ],
      "metadata": {
        "id": "ojhmrYOr5brx",
        "colab": {
          "base_uri": "https://localhost:8080/"
        },
        "outputId": "d479767a-80da-4de6-a860-6d0fa4780d75"
      },
      "execution_count": 19,
      "outputs": [
        {
          "output_type": "stream",
          "name": "stdout",
          "text": [
            "Shape of batched_x: torch.Size([16, 512])\n"
          ]
        }
      ]
    },
    {
      "cell_type": "code",
      "source": [
        "# finally, let's pass the data through a linear layer with 512 input neurons and 10 output neurons\n",
        "linear_layer_3 = nn.Linear(512, 10)\n",
        "x = linear_layer_3(x)\n",
        "print(\"Shape of x:\", x.shape)"
      ],
      "metadata": {
        "id": "FqZSPm0I5fJb",
        "colab": {
          "base_uri": "https://localhost:8080/"
        },
        "outputId": "2efb666b-f93b-4f8f-b60e-fe214fb12aec"
      },
      "execution_count": 20,
      "outputs": [
        {
          "output_type": "stream",
          "name": "stdout",
          "text": [
            "Shape of x: torch.Size([16, 10])\n"
          ]
        }
      ]
    },
    {
      "cell_type": "code",
      "source": [
        "# the output probabilities can be calculated by applying the softmax function\n",
        "x = nn.Softmax(dim=1)(x)\n",
        "print(\"Shape of x:\", x.shape)\n",
        "print(x)"
      ],
      "metadata": {
        "id": "Sz5kA57W5wos",
        "colab": {
          "base_uri": "https://localhost:8080/"
        },
        "outputId": "8850cf19-4def-402d-ffbb-a696aa88a14e"
      },
      "execution_count": 21,
      "outputs": [
        {
          "output_type": "stream",
          "name": "stdout",
          "text": [
            "Shape of x: torch.Size([16, 10])\n",
            "tensor([[0.1009, 0.0953, 0.0997, 0.1007, 0.0991, 0.1032, 0.1021, 0.0973, 0.0993,\n",
            "         0.1025],\n",
            "        [0.1048, 0.0891, 0.1001, 0.0983, 0.0949, 0.1035, 0.1053, 0.0968, 0.1076,\n",
            "         0.0995],\n",
            "        [0.1021, 0.0949, 0.0956, 0.0979, 0.0945, 0.1035, 0.1062, 0.0973, 0.1040,\n",
            "         0.1039],\n",
            "        [0.1018, 0.0973, 0.0961, 0.0994, 0.0952, 0.1029, 0.1034, 0.0976, 0.1024,\n",
            "         0.1040],\n",
            "        [0.0999, 0.0958, 0.0982, 0.0978, 0.0956, 0.1027, 0.1035, 0.0976, 0.1061,\n",
            "         0.1028],\n",
            "        [0.1019, 0.0954, 0.0953, 0.0989, 0.0951, 0.1022, 0.1052, 0.0984, 0.1047,\n",
            "         0.1029],\n",
            "        [0.1021, 0.0943, 0.0952, 0.1001, 0.0973, 0.1043, 0.1007, 0.0991, 0.1047,\n",
            "         0.1023],\n",
            "        [0.1037, 0.0929, 0.1001, 0.0982, 0.0950, 0.1020, 0.1029, 0.0977, 0.1045,\n",
            "         0.1030],\n",
            "        [0.1024, 0.0956, 0.0982, 0.0988, 0.0979, 0.1040, 0.1028, 0.0976, 0.0997,\n",
            "         0.1030],\n",
            "        [0.1023, 0.0943, 0.1002, 0.0995, 0.0975, 0.1054, 0.1012, 0.0962, 0.1007,\n",
            "         0.1027],\n",
            "        [0.0999, 0.0922, 0.1009, 0.0981, 0.0945, 0.1007, 0.1082, 0.0998, 0.1019,\n",
            "         0.1037],\n",
            "        [0.1013, 0.0946, 0.1005, 0.0989, 0.0984, 0.1079, 0.1027, 0.0964, 0.0969,\n",
            "         0.1026],\n",
            "        [0.1027, 0.0944, 0.1017, 0.0993, 0.0984, 0.1047, 0.1005, 0.0970, 0.0989,\n",
            "         0.1026],\n",
            "        [0.1038, 0.0927, 0.0975, 0.1006, 0.0930, 0.1015, 0.1043, 0.0980, 0.1050,\n",
            "         0.1037],\n",
            "        [0.1012, 0.0929, 0.0959, 0.0982, 0.0910, 0.1052, 0.1069, 0.0955, 0.1097,\n",
            "         0.1035],\n",
            "        [0.1006, 0.0969, 0.0968, 0.0995, 0.0939, 0.1028, 0.1042, 0.0970, 0.1030,\n",
            "         0.1053]], grad_fn=<SoftmaxBackward0>)\n"
          ]
        }
      ]
    },
    {
      "cell_type": "markdown",
      "source": [
        "To define a neural network in PyTorch, we can also create a class that inherits\n",
        "from [nn.Module](https://pytorch.org/docs/stable/generated/torch.nn.Module.html).\n",
        "We define the layers of the network in the `__init__` function and\n",
        "specify how data will pass through the network in the `forward`\n",
        "function. To accelerate operations in the neural network, we move it to\n",
        "the GPU if available."
      ],
      "metadata": {
        "id": "jwy8ivI64ELV"
      }
    },
    {
      "cell_type": "code",
      "execution_count": 22,
      "metadata": {
        "id": "vDgVa8QQlVe4",
        "colab": {
          "base_uri": "https://localhost:8080/"
        },
        "outputId": "00a5dd2b-ba69-44d5-93e6-8eef6f68dc7a"
      },
      "outputs": [
        {
          "output_type": "stream",
          "name": "stdout",
          "text": [
            "Using cuda device\n",
            "NeuralNetwork(\n",
            "  (flatten): Flatten(start_dim=1, end_dim=-1)\n",
            "  (linear_relu_stack): Sequential(\n",
            "    (0): Linear(in_features=784, out_features=512, bias=True)\n",
            "    (1): ReLU()\n",
            "    (2): Linear(in_features=512, out_features=512, bias=True)\n",
            "    (3): ReLU()\n",
            "    (4): Linear(in_features=512, out_features=10, bias=True)\n",
            "  )\n",
            ")\n"
          ]
        }
      ],
      "source": [
        "# Use the cuda device for training.\n",
        "device = \"cuda\"\n",
        "print(f\"Using {device} device\")\n",
        "\n",
        "# TODO: Define the neural network model as a class\n",
        "class NeuralNetwork(nn.Module):\n",
        "    def __init__(self):\n",
        "        super().__init__()\n",
        "        self.flatten = nn.Flatten()\n",
        "        self.linear_relu_stack = nn.Sequential(\n",
        "            nn.Linear(28*28, 512),\n",
        "            nn.ReLU(),\n",
        "            nn.Linear(512, 512),\n",
        "            nn.ReLU(),\n",
        "            nn.Linear(512, 10)\n",
        "        )\n",
        "\n",
        "    def forward(self, x):\n",
        "        x = self.flatten(x)\n",
        "        logits = self.linear_relu_stack(x)\n",
        "        return logits\n",
        "\n",
        "model = NeuralNetwork().to(device)\n",
        "print(model)"
      ]
    },
    {
      "cell_type": "markdown",
      "source": [
        "This model can then be called to directly apply all of the linear and non-linear operations on an input batch of data."
      ],
      "metadata": {
        "id": "gHw86deK6u9q"
      }
    },
    {
      "cell_type": "code",
      "source": [
        "x = model(batched_x.to(device))\n",
        "print(\"Shape of x:\", x.shape)"
      ],
      "metadata": {
        "id": "vmeIhWX66jfl",
        "colab": {
          "base_uri": "https://localhost:8080/"
        },
        "outputId": "8c808f69-1295-4125-b684-ac6928bb1317"
      },
      "execution_count": 23,
      "outputs": [
        {
          "output_type": "stream",
          "name": "stdout",
          "text": [
            "Shape of x: torch.Size([16, 10])\n"
          ]
        }
      ]
    },
    {
      "cell_type": "markdown",
      "metadata": {
        "id": "Fpd1IC6XlVe5"
      },
      "source": [
        "Read more about [building neural networks in\n",
        "PyTorch](https://pytorch.org/tutorials/beginner/basics/buildmodel_tutorial.html).\n"
      ]
    },
    {
      "cell_type": "markdown",
      "metadata": {
        "id": "LS3dVw6-lVe5"
      },
      "source": [
        "------------------------------------------------------------------------\n"
      ]
    },
    {
      "cell_type": "markdown",
      "metadata": {
        "id": "wh4QmE-vlVe5"
      },
      "source": [
        "Optimizing the Model Parameters\n",
        "===============================\n",
        "\n",
        "To train a model, we need a [loss\n",
        "function](https://pytorch.org/docs/stable/nn.html#loss-functions) and an\n",
        "[optimizer](https://pytorch.org/docs/stable/optim.html).\n"
      ]
    },
    {
      "cell_type": "code",
      "execution_count": 24,
      "metadata": {
        "id": "ck0RBEnWlVe6"
      },
      "outputs": [],
      "source": [
        "loss_fn = nn.CrossEntropyLoss()\n",
        "optimizer = torch.optim.SGD(model.parameters(), lr=0.01, momentum=0.5)"
      ]
    },
    {
      "cell_type": "markdown",
      "source": [
        "The training process for a neural network proceeds in 2 passes: a forward pass and a backward pass\n",
        "\n",
        "Data is passed to the neural network in batches: each batch consists of a set of images and labels.\n",
        "\n",
        "During the forward pass, the image is passed to the input layer and processed through successive layers until the prediction is generated at the output layer. The prediction is compared to the ground truth labels and the cross entropy loss is calculated.\n",
        "\n",
        "During the backward pass, backpropagation is performed to update the weights of the network to minize the loss function, using the technique of gradient descent.\n",
        "\n",
        "This process is repeated over and over until the loss function reaches a minimum. As this point, the neural network is optimized to accurately predict the class labels from image data"
      ],
      "metadata": {
        "id": "2amVoGgX9B6T"
      }
    },
    {
      "cell_type": "code",
      "source": [
        "# First, we will try to run the forward pass and backward pass using one batch of data\n",
        "\n",
        "# Get a batch of training data from the dataloader\n",
        "images, labels = next(iter(train_dataloader))\n",
        "print('\"images\" is a tensor with shape:', images.shape)\n",
        "print('\"labels\" is a tensor with shape:', labels.shape)\n",
        "\n",
        "print('Target labels are:')\n",
        "for i in range(len(labels)):\n",
        "    print(labels[i], label_map[int(labels[i])])"
      ],
      "metadata": {
        "id": "xIo-Fb4Z9Yjs",
        "colab": {
          "base_uri": "https://localhost:8080/"
        },
        "outputId": "4c8ba232-d3be-422c-b394-204a198c74a2"
      },
      "execution_count": 25,
      "outputs": [
        {
          "output_type": "stream",
          "name": "stdout",
          "text": [
            "\"images\" is a tensor with shape: torch.Size([16, 1, 28, 28])\n",
            "\"labels\" is a tensor with shape: torch.Size([16])\n",
            "Target labels are:\n",
            "tensor(9) Ankle Boot\n",
            "tensor(0) T-Shirt\n",
            "tensor(0) T-Shirt\n",
            "tensor(3) Dress\n",
            "tensor(0) T-Shirt\n",
            "tensor(2) Pullover\n",
            "tensor(7) Sneaker\n",
            "tensor(2) Pullover\n",
            "tensor(5) Sandal\n",
            "tensor(5) Sandal\n",
            "tensor(0) T-Shirt\n",
            "tensor(9) Ankle Boot\n",
            "tensor(5) Sandal\n",
            "tensor(5) Sandal\n",
            "tensor(7) Sneaker\n",
            "tensor(9) Ankle Boot\n"
          ]
        }
      ]
    },
    {
      "cell_type": "code",
      "source": [
        "# put the model in training mode\n",
        "model = model.train()\n",
        "\n",
        "# move this batch of data to the GPU if device is cuda\n",
        "images, labels = images.to(device), labels.to(device)\n",
        "\n",
        "# Forward pass: process the input point clouds through the neural network and predict the output probabilities\n",
        "prediction = model(images)\n",
        "\n",
        "print('\"prediction\" is a tensor with shape:', prediction.shape)\n",
        "print(prediction)\n",
        "\n",
        "# the predicted label is the array index associated with the maximum probability for each training sample\n",
        "predicted_labels = prediction.data.max(1)[1]\n",
        "print(predicted_labels)\n",
        "print('\"predicted_labels\" is a tensor with shape:', predicted_labels.shape)\n",
        "\n",
        "print('Predicted labels are:')\n",
        "for i in range(len(predicted_labels)):\n",
        "    print(predicted_labels[i], label_map[int(predicted_labels[i])])"
      ],
      "metadata": {
        "id": "dcer3J8L-R0p",
        "colab": {
          "base_uri": "https://localhost:8080/"
        },
        "outputId": "ee9813b1-94a5-4221-89d8-a82c772960c1"
      },
      "execution_count": 26,
      "outputs": [
        {
          "output_type": "stream",
          "name": "stdout",
          "text": [
            "\"prediction\" is a tensor with shape: torch.Size([16, 10])\n",
            "tensor([[ 2.3341e-02, -7.7251e-02, -5.0784e-02,  1.5239e-03,  1.6276e-02,\n",
            "         -1.8523e-03, -3.4164e-02, -7.4258e-02,  1.2278e-02, -7.5278e-02],\n",
            "        [ 7.2726e-02, -1.8465e-03, -3.1103e-02,  1.9703e-02,  9.6214e-02,\n",
            "         -3.6180e-02, -3.6092e-03, -4.8624e-02, -7.1389e-03, -5.6244e-02],\n",
            "        [ 2.7058e-02, -3.9603e-03, -2.6069e-02,  1.8040e-02,  9.3523e-03,\n",
            "         -2.1268e-02, -1.8511e-02, -4.0423e-02, -1.8817e-02, -4.7234e-02],\n",
            "        [ 2.6596e-02, -4.8226e-03, -3.7826e-02,  3.9734e-02,  2.8584e-02,\n",
            "         -2.2958e-02, -3.1235e-02, -4.4826e-02, -2.3795e-02, -5.3241e-02],\n",
            "        [ 9.5245e-03, -4.1616e-02, -9.4235e-02,  4.0441e-02,  6.6933e-02,\n",
            "         -6.0473e-02, -2.9115e-03, -5.1593e-02, -5.9060e-02, -6.3699e-02],\n",
            "        [ 2.1980e-02, -2.5507e-02, -7.2750e-02,  2.2275e-02,  2.4983e-02,\n",
            "         -3.4434e-02, -4.4261e-02, -6.6444e-02, -1.3369e-02, -5.5924e-02],\n",
            "        [ 6.8819e-02, -3.0211e-02, -4.0523e-02, -3.1366e-02, -1.5368e-02,\n",
            "         -1.5309e-02, -4.8767e-02, -3.4589e-02, -4.4902e-03, -3.8763e-02],\n",
            "        [ 3.0795e-02, -5.6530e-02, -1.0697e-01,  2.3439e-02,  6.1609e-02,\n",
            "         -4.8304e-02, -9.4117e-02, -1.3154e-01, -2.1000e-02, -1.7481e-02],\n",
            "        [ 2.9939e-02, -3.6183e-03, -8.4437e-03,  9.0634e-03, -9.9657e-03,\n",
            "         -1.0246e-02, -7.3975e-03, -3.6641e-02,  1.1480e-02, -4.0157e-02],\n",
            "        [ 2.7334e-02, -7.6765e-02,  3.5092e-03, -1.1998e-03, -1.5622e-03,\n",
            "          1.4736e-02, -4.4309e-02, -8.6543e-02,  3.5087e-02, -3.5674e-02],\n",
            "        [ 4.6803e-02,  1.5289e-05, -5.0518e-02,  2.8074e-02,  3.3591e-02,\n",
            "         -2.3283e-02, -3.9194e-02, -4.6979e-02, -2.3458e-02, -3.9734e-02],\n",
            "        [-7.6969e-03, -5.9844e-02, -5.0193e-02,  4.6041e-02,  4.2852e-02,\n",
            "         -3.9718e-02, -5.0733e-02, -1.8608e-02, -4.7502e-02, -6.0433e-02],\n",
            "        [ 2.9434e-02, -3.7842e-02, -2.2298e-02, -3.0315e-03, -2.8547e-02,\n",
            "          2.3220e-02, -8.2689e-03, -6.0809e-02, -1.1220e-02, -5.2718e-02],\n",
            "        [ 3.5342e-02,  2.7481e-03, -3.5203e-02,  9.5113e-03, -3.1659e-02,\n",
            "          2.8379e-02, -3.2050e-02, -6.2289e-02,  2.8495e-02, -3.7496e-02],\n",
            "        [ 4.6509e-02, -1.7043e-03, -3.9295e-02, -2.2492e-02, -1.8042e-02,\n",
            "          6.0818e-03, -2.0561e-02, -1.1015e-02,  4.2735e-03, -7.4577e-02],\n",
            "        [ 5.2392e-02, -6.7268e-02, -5.3391e-02,  8.1711e-03,  2.8831e-04,\n",
            "         -1.9894e-03, -6.0006e-02, -5.9723e-02,  2.3928e-02, -6.2082e-02]],\n",
            "       device='cuda:0', grad_fn=<AddmmBackward0>)\n",
            "tensor([0, 4, 0, 3, 4, 4, 0, 4, 0, 8, 0, 3, 0, 0, 0, 0], device='cuda:0')\n",
            "\"predicted_labels\" is a tensor with shape: torch.Size([16])\n",
            "Predicted labels are:\n",
            "tensor(0, device='cuda:0') T-Shirt\n",
            "tensor(4, device='cuda:0') Coat\n",
            "tensor(0, device='cuda:0') T-Shirt\n",
            "tensor(3, device='cuda:0') Dress\n",
            "tensor(4, device='cuda:0') Coat\n",
            "tensor(4, device='cuda:0') Coat\n",
            "tensor(0, device='cuda:0') T-Shirt\n",
            "tensor(4, device='cuda:0') Coat\n",
            "tensor(0, device='cuda:0') T-Shirt\n",
            "tensor(8, device='cuda:0') Bag\n",
            "tensor(0, device='cuda:0') T-Shirt\n",
            "tensor(3, device='cuda:0') Dress\n",
            "tensor(0, device='cuda:0') T-Shirt\n",
            "tensor(0, device='cuda:0') T-Shirt\n",
            "tensor(0, device='cuda:0') T-Shirt\n",
            "tensor(0, device='cuda:0') T-Shirt\n"
          ]
        }
      ]
    },
    {
      "cell_type": "code",
      "source": [
        "# compare the prediction vs the target labels and determine the cross entropy loss\n",
        "loss = loss_fn(prediction, labels)\n",
        "print('Cross entropy loss is', loss)"
      ],
      "metadata": {
        "id": "tEYdM1jL_TgC",
        "colab": {
          "base_uri": "https://localhost:8080/"
        },
        "outputId": "6c264a4d-4610-4bbc-eae2-305c25028577"
      },
      "execution_count": 27,
      "outputs": [
        {
          "output_type": "stream",
          "name": "stdout",
          "text": [
            "Cross entropy loss is tensor(2.2967, device='cuda:0', grad_fn=<NllLossBackward0>)\n"
          ]
        }
      ]
    },
    {
      "cell_type": "code",
      "source": [
        "# Backward pass: perform backpropagation to update the weights of the network based on the computed loss function\n",
        "# PyTorch has a built-in differentiation engine called torch.autograd which will automatically compute gradients\n",
        "loss.backward()\n",
        "optimizer.step()\n",
        "\n",
        "# Run the forward pass again: this time, the predictions should be closer to the target\n",
        "# The network has 'learned' how to associate patterns in the point cloud with specific classes of objects\n",
        "prediction = model(images)\n",
        "\n",
        "print('\"prediction\" is a tensor with shape:', prediction.shape)\n",
        "print(prediction)\n",
        "\n",
        "predicted_labels = prediction.data.max(1)[1]\n",
        "print(predicted_labels)\n",
        "print('\"predicted_labels\" is a tensor with shape:', predicted_labels.shape)\n",
        "\n",
        "print('predicted_labels labels are:')\n",
        "for i in range(len(predicted_labels)):\n",
        "    print(predicted_labels[i], label_map[int(predicted_labels[i])])\n"
      ],
      "metadata": {
        "id": "sGf5GTn7_kHV",
        "colab": {
          "base_uri": "https://localhost:8080/"
        },
        "outputId": "817c312a-aff5-42b4-d024-d35b73729dcc"
      },
      "execution_count": 28,
      "outputs": [
        {
          "output_type": "stream",
          "name": "stdout",
          "text": [
            "\"prediction\" is a tensor with shape: torch.Size([16, 10])\n",
            "tensor([[ 0.0308, -0.0839, -0.0437, -0.0033,  0.0078,  0.0027, -0.0417, -0.0782,\n",
            "          0.0064, -0.0607],\n",
            "        [ 0.0906, -0.0096, -0.0231,  0.0154,  0.0863, -0.0337, -0.0103, -0.0529,\n",
            "         -0.0130, -0.0476],\n",
            "        [ 0.0351, -0.0071, -0.0231,  0.0162,  0.0042, -0.0191, -0.0223, -0.0421,\n",
            "         -0.0217, -0.0429],\n",
            "        [ 0.0369, -0.0094, -0.0334,  0.0386,  0.0222, -0.0212, -0.0365, -0.0471,\n",
            "         -0.0274, -0.0479],\n",
            "        [ 0.0264, -0.0472, -0.0888,  0.0370,  0.0578, -0.0579, -0.0090, -0.0552,\n",
            "         -0.0648, -0.0566],\n",
            "        [ 0.0336, -0.0332, -0.0603,  0.0166,  0.0153, -0.0323, -0.0519, -0.0708,\n",
            "         -0.0190, -0.0460],\n",
            "        [ 0.0731, -0.0345, -0.0380, -0.0338, -0.0202, -0.0115, -0.0528, -0.0335,\n",
            "         -0.0082, -0.0331],\n",
            "        [ 0.0425, -0.0667, -0.0882,  0.0162,  0.0492, -0.0447, -0.1033, -0.1372,\n",
            "         -0.0285, -0.0038],\n",
            "        [ 0.0337, -0.0063, -0.0063,  0.0071, -0.0135, -0.0061, -0.0104, -0.0375,\n",
            "          0.0090, -0.0366],\n",
            "        [ 0.0322, -0.0807,  0.0069, -0.0046, -0.0071,  0.0209, -0.0494, -0.0888,\n",
            "          0.0316, -0.0301],\n",
            "        [ 0.0633, -0.0060, -0.0441,  0.0244,  0.0247, -0.0210, -0.0457, -0.0509,\n",
            "         -0.0286, -0.0325],\n",
            "        [ 0.0050, -0.0672, -0.0420,  0.0401,  0.0329, -0.0358, -0.0581, -0.0228,\n",
            "         -0.0539, -0.0459],\n",
            "        [ 0.0333, -0.0417, -0.0197, -0.0053, -0.0330,  0.0276, -0.0122, -0.0615,\n",
            "         -0.0144, -0.0471],\n",
            "        [ 0.0388, -0.0008, -0.0330,  0.0076, -0.0352,  0.0326, -0.0353, -0.0624,\n",
            "          0.0256, -0.0330],\n",
            "        [ 0.0501, -0.0049, -0.0374, -0.0241, -0.0214,  0.0091, -0.0234, -0.0099,\n",
            "          0.0015, -0.0707],\n",
            "        [ 0.0584, -0.0740, -0.0481,  0.0035, -0.0076,  0.0026, -0.0673, -0.0628,\n",
            "          0.0179, -0.0481]], device='cuda:0', grad_fn=<AddmmBackward0>)\n",
            "tensor([0, 0, 0, 3, 4, 0, 0, 4, 0, 0, 0, 3, 0, 0, 0, 0], device='cuda:0')\n",
            "\"predicted_labels\" is a tensor with shape: torch.Size([16])\n",
            "predicted_labels labels are:\n",
            "tensor(0, device='cuda:0') T-Shirt\n",
            "tensor(0, device='cuda:0') T-Shirt\n",
            "tensor(0, device='cuda:0') T-Shirt\n",
            "tensor(3, device='cuda:0') Dress\n",
            "tensor(4, device='cuda:0') Coat\n",
            "tensor(0, device='cuda:0') T-Shirt\n",
            "tensor(0, device='cuda:0') T-Shirt\n",
            "tensor(4, device='cuda:0') Coat\n",
            "tensor(0, device='cuda:0') T-Shirt\n",
            "tensor(0, device='cuda:0') T-Shirt\n",
            "tensor(0, device='cuda:0') T-Shirt\n",
            "tensor(3, device='cuda:0') Dress\n",
            "tensor(0, device='cuda:0') T-Shirt\n",
            "tensor(0, device='cuda:0') T-Shirt\n",
            "tensor(0, device='cuda:0') T-Shirt\n",
            "tensor(0, device='cuda:0') T-Shirt\n"
          ]
        }
      ]
    },
    {
      "cell_type": "code",
      "source": [
        "# compare the prediction vs the target labels and determine the negative log-likelihood loss\n",
        "loss = loss_fn(prediction, labels)\n",
        "print('Cross entropy loss is', loss)"
      ],
      "metadata": {
        "id": "G3bTE1waAC9B",
        "colab": {
          "base_uri": "https://localhost:8080/"
        },
        "outputId": "d67718ac-8c26-4d7d-aaaf-62cd28a0ef3b"
      },
      "execution_count": 29,
      "outputs": [
        {
          "output_type": "stream",
          "name": "stdout",
          "text": [
            "Cross entropy loss is tensor(2.2869, device='cuda:0', grad_fn=<NllLossBackward0>)\n"
          ]
        }
      ]
    },
    {
      "cell_type": "markdown",
      "metadata": {
        "id": "7XUjpPCDlVe6"
      },
      "source": [
        "Running a single iteration is usually not sufficient to train the network. We can repeat this process by running the forward and backward passes within a training loop. In a single training loop, the model makes predictions on the training dataset (fed to it in batches), and backpropagates the prediction error to adjust the model\\'s parameters.\n"
      ]
    },
    {
      "cell_type": "code",
      "execution_count": 30,
      "metadata": {
        "id": "76IJFVuNlVe6"
      },
      "outputs": [],
      "source": [
        "# TODO: Define the training loop\n",
        "def train(dataloader, model, loss_fn, optimizer):\n",
        "    size = len(dataloader.dataset)\n",
        "    model.train()\n",
        "    for batch, (X, y) in enumerate(dataloader):\n",
        "\n",
        "        X, y = X.to(device), y.to(device)\n",
        "\n",
        "        # Compute prediction error and perform backpropagation\n",
        "        pred = model(X)\n",
        "        loss = loss_fn(pred, y)\n",
        "\n",
        "        # Backpropagation\n",
        "        loss.backward()\n",
        "        optimizer.step()\n",
        "        optimizer.zero_grad()\n",
        "\n",
        "        if batch % 100 == 0:\n",
        "            loss, current = loss.item(), (batch + 1) * len(X)\n",
        "            print(f\"loss: {loss:>7f}  [{current:>5d}/{size:>5d}]\")"
      ]
    },
    {
      "cell_type": "markdown",
      "metadata": {
        "id": "6upDWB88lVe7"
      },
      "source": [
        "We also check the model\\'s performance against the test dataset to\n",
        "ensure it is learning.\n"
      ]
    },
    {
      "cell_type": "code",
      "execution_count": 31,
      "metadata": {
        "id": "jF5D3pAOlVe7"
      },
      "outputs": [],
      "source": [
        "# TODO: Define the testing loop\n",
        "def test(dataloader, model, loss_fn):\n",
        "    size = len(dataloader.dataset)\n",
        "    num_batches = len(dataloader)\n",
        "    model.eval()\n",
        "    test_loss, correct = 0, 0\n",
        "    with torch.no_grad():\n",
        "        for X, y in dataloader:\n",
        "            X, y = X.to(device), y.to(device)\n",
        "            pred = model(X)\n",
        "\n",
        "            # Compute prediction and calculate the accuracy\n",
        "            test_loss += loss_fn(pred, y).item()\n",
        "            correct += (pred.argmax(1) == y).type(torch.float).sum().item()\n",
        "    test_loss /= num_batches\n",
        "    correct /= size\n",
        "\n",
        "    print(f\"Test Error: \\n Accuracy: {(100*correct):>0.1f}%, Avg loss: {test_loss:>8f} \\n\")"
      ]
    },
    {
      "cell_type": "markdown",
      "metadata": {
        "id": "4upFWxjVlVe7"
      },
      "source": [
        "The training process is conducted over several iterations (*epochs*).\n",
        "During each epoch, the model learns parameters to make better\n",
        "predictions. We print the model\\'s accuracy and loss at each epoch;\n",
        "we\\'d like to see the accuracy increase and the loss decrease with every\n",
        "epoch.\n"
      ]
    },
    {
      "cell_type": "code",
      "execution_count": 32,
      "metadata": {
        "id": "ZR81t0F0lVe7",
        "colab": {
          "base_uri": "https://localhost:8080/"
        },
        "outputId": "49eb8293-5b43-48d9-dcc0-5959489631a1"
      },
      "outputs": [
        {
          "output_type": "stream",
          "name": "stdout",
          "text": [
            "Epoch 1\n",
            "-------------------------------\n",
            "loss: 2.286905  [   16/60000]\n",
            "loss: 1.800302  [ 1616/60000]\n",
            "loss: 1.226537  [ 3216/60000]\n",
            "loss: 0.966566  [ 4816/60000]\n",
            "loss: 0.770972  [ 6416/60000]\n",
            "loss: 0.853909  [ 8016/60000]\n",
            "loss: 0.908042  [ 9616/60000]\n",
            "loss: 0.446199  [11216/60000]\n",
            "loss: 0.598609  [12816/60000]\n",
            "loss: 0.419086  [14416/60000]\n",
            "loss: 1.036128  [16016/60000]\n",
            "loss: 0.412211  [17616/60000]\n",
            "loss: 0.433080  [19216/60000]\n",
            "loss: 1.244072  [20816/60000]\n",
            "loss: 0.576808  [22416/60000]\n",
            "loss: 0.699102  [24016/60000]\n",
            "loss: 0.429694  [25616/60000]\n",
            "loss: 0.702452  [27216/60000]\n",
            "loss: 0.583565  [28816/60000]\n",
            "loss: 0.383689  [30416/60000]\n",
            "loss: 0.561872  [32016/60000]\n",
            "loss: 0.357208  [33616/60000]\n",
            "loss: 0.289005  [35216/60000]\n",
            "loss: 0.372330  [36816/60000]\n",
            "loss: 0.589019  [38416/60000]\n",
            "loss: 0.610973  [40016/60000]\n",
            "loss: 0.601287  [41616/60000]\n",
            "loss: 0.512068  [43216/60000]\n",
            "loss: 0.566877  [44816/60000]\n",
            "loss: 0.477888  [46416/60000]\n",
            "loss: 0.363007  [48016/60000]\n",
            "loss: 0.436154  [49616/60000]\n",
            "loss: 0.241629  [51216/60000]\n",
            "loss: 0.338239  [52816/60000]\n",
            "loss: 0.514903  [54416/60000]\n",
            "loss: 0.380138  [56016/60000]\n",
            "loss: 0.605725  [57616/60000]\n",
            "loss: 0.251302  [59216/60000]\n",
            "Test Error: \n",
            " Accuracy: 82.3%, Avg loss: 0.492222 \n",
            "\n",
            "Epoch 2\n",
            "-------------------------------\n",
            "loss: 0.526956  [   16/60000]\n",
            "loss: 0.365675  [ 1616/60000]\n",
            "loss: 0.594197  [ 3216/60000]\n",
            "loss: 0.387369  [ 4816/60000]\n",
            "loss: 0.264359  [ 6416/60000]\n",
            "loss: 0.458843  [ 8016/60000]\n",
            "loss: 0.638051  [ 9616/60000]\n",
            "loss: 0.251365  [11216/60000]\n",
            "loss: 0.333476  [12816/60000]\n",
            "loss: 0.141841  [14416/60000]\n",
            "loss: 0.781573  [16016/60000]\n",
            "loss: 0.211030  [17616/60000]\n",
            "loss: 0.225917  [19216/60000]\n",
            "loss: 0.870098  [20816/60000]\n",
            "loss: 0.431170  [22416/60000]\n",
            "loss: 0.565102  [24016/60000]\n",
            "loss: 0.375834  [25616/60000]\n",
            "loss: 0.484493  [27216/60000]\n",
            "loss: 0.420247  [28816/60000]\n",
            "loss: 0.225144  [30416/60000]\n",
            "loss: 0.484021  [32016/60000]\n",
            "loss: 0.385828  [33616/60000]\n",
            "loss: 0.229107  [35216/60000]\n",
            "loss: 0.342252  [36816/60000]\n",
            "loss: 0.336576  [38416/60000]\n",
            "loss: 0.591476  [40016/60000]\n",
            "loss: 0.478415  [41616/60000]\n",
            "loss: 0.592391  [43216/60000]\n",
            "loss: 0.518318  [44816/60000]\n",
            "loss: 0.447052  [46416/60000]\n",
            "loss: 0.267527  [48016/60000]\n",
            "loss: 0.325766  [49616/60000]\n",
            "loss: 0.208542  [51216/60000]\n",
            "loss: 0.348829  [52816/60000]\n",
            "loss: 0.464467  [54416/60000]\n",
            "loss: 0.231538  [56016/60000]\n",
            "loss: 0.567901  [57616/60000]\n",
            "loss: 0.273138  [59216/60000]\n",
            "Test Error: \n",
            " Accuracy: 84.7%, Avg loss: 0.426161 \n",
            "\n",
            "Epoch 3\n",
            "-------------------------------\n",
            "loss: 0.430323  [   16/60000]\n",
            "loss: 0.293867  [ 1616/60000]\n",
            "loss: 0.462268  [ 3216/60000]\n",
            "loss: 0.309475  [ 4816/60000]\n",
            "loss: 0.200794  [ 6416/60000]\n",
            "loss: 0.483226  [ 8016/60000]\n",
            "loss: 0.589584  [ 9616/60000]\n",
            "loss: 0.223612  [11216/60000]\n",
            "loss: 0.330339  [12816/60000]\n",
            "loss: 0.126283  [14416/60000]\n",
            "loss: 0.781087  [16016/60000]\n",
            "loss: 0.190845  [17616/60000]\n",
            "loss: 0.165211  [19216/60000]\n",
            "loss: 0.726768  [20816/60000]\n",
            "loss: 0.342466  [22416/60000]\n",
            "loss: 0.529791  [24016/60000]\n",
            "loss: 0.377509  [25616/60000]\n",
            "loss: 0.416709  [27216/60000]\n",
            "loss: 0.384014  [28816/60000]\n",
            "loss: 0.182381  [30416/60000]\n",
            "loss: 0.487846  [32016/60000]\n",
            "loss: 0.417037  [33616/60000]\n",
            "loss: 0.203310  [35216/60000]\n",
            "loss: 0.326169  [36816/60000]\n",
            "loss: 0.256231  [38416/60000]\n",
            "loss: 0.544209  [40016/60000]\n",
            "loss: 0.405558  [41616/60000]\n",
            "loss: 0.711426  [43216/60000]\n",
            "loss: 0.492654  [44816/60000]\n",
            "loss: 0.410101  [46416/60000]\n",
            "loss: 0.212192  [48016/60000]\n",
            "loss: 0.286578  [49616/60000]\n",
            "loss: 0.184201  [51216/60000]\n",
            "loss: 0.336854  [52816/60000]\n",
            "loss: 0.419059  [54416/60000]\n",
            "loss: 0.162314  [56016/60000]\n",
            "loss: 0.567299  [57616/60000]\n",
            "loss: 0.277714  [59216/60000]\n",
            "Test Error: \n",
            " Accuracy: 85.7%, Avg loss: 0.398521 \n",
            "\n",
            "Epoch 4\n",
            "-------------------------------\n",
            "loss: 0.360886  [   16/60000]\n",
            "loss: 0.246403  [ 1616/60000]\n",
            "loss: 0.393673  [ 3216/60000]\n",
            "loss: 0.294401  [ 4816/60000]\n",
            "loss: 0.173947  [ 6416/60000]\n",
            "loss: 0.489234  [ 8016/60000]\n",
            "loss: 0.541041  [ 9616/60000]\n",
            "loss: 0.223468  [11216/60000]\n",
            "loss: 0.326596  [12816/60000]\n",
            "loss: 0.121659  [14416/60000]\n",
            "loss: 0.793250  [16016/60000]\n",
            "loss: 0.175729  [17616/60000]\n",
            "loss: 0.136684  [19216/60000]\n",
            "loss: 0.675713  [20816/60000]\n",
            "loss: 0.288211  [22416/60000]\n",
            "loss: 0.473898  [24016/60000]\n",
            "loss: 0.392439  [25616/60000]\n",
            "loss: 0.358136  [27216/60000]\n",
            "loss: 0.394841  [28816/60000]\n",
            "loss: 0.180655  [30416/60000]\n",
            "loss: 0.479693  [32016/60000]\n",
            "loss: 0.409427  [33616/60000]\n",
            "loss: 0.179104  [35216/60000]\n",
            "loss: 0.296554  [36816/60000]\n",
            "loss: 0.208181  [38416/60000]\n",
            "loss: 0.507746  [40016/60000]\n",
            "loss: 0.358704  [41616/60000]\n",
            "loss: 0.752434  [43216/60000]\n",
            "loss: 0.467364  [44816/60000]\n",
            "loss: 0.363104  [46416/60000]\n",
            "loss: 0.188112  [48016/60000]\n",
            "loss: 0.281037  [49616/60000]\n",
            "loss: 0.148039  [51216/60000]\n",
            "loss: 0.303713  [52816/60000]\n",
            "loss: 0.392108  [54416/60000]\n",
            "loss: 0.125133  [56016/60000]\n",
            "loss: 0.556069  [57616/60000]\n",
            "loss: 0.271537  [59216/60000]\n",
            "Test Error: \n",
            " Accuracy: 86.3%, Avg loss: 0.381954 \n",
            "\n",
            "Epoch 5\n",
            "-------------------------------\n",
            "loss: 0.343500  [   16/60000]\n",
            "loss: 0.241864  [ 1616/60000]\n",
            "loss: 0.368031  [ 3216/60000]\n",
            "loss: 0.295993  [ 4816/60000]\n",
            "loss: 0.156231  [ 6416/60000]\n",
            "loss: 0.490966  [ 8016/60000]\n",
            "loss: 0.497428  [ 9616/60000]\n",
            "loss: 0.210844  [11216/60000]\n",
            "loss: 0.300155  [12816/60000]\n",
            "loss: 0.116141  [14416/60000]\n",
            "loss: 0.792727  [16016/60000]\n",
            "loss: 0.169615  [17616/60000]\n",
            "loss: 0.129701  [19216/60000]\n",
            "loss: 0.608344  [20816/60000]\n",
            "loss: 0.262612  [22416/60000]\n",
            "loss: 0.467024  [24016/60000]\n",
            "loss: 0.399752  [25616/60000]\n",
            "loss: 0.309912  [27216/60000]\n",
            "loss: 0.380913  [28816/60000]\n",
            "loss: 0.180514  [30416/60000]\n",
            "loss: 0.448287  [32016/60000]\n",
            "loss: 0.404458  [33616/60000]\n",
            "loss: 0.161427  [35216/60000]\n",
            "loss: 0.277446  [36816/60000]\n",
            "loss: 0.182674  [38416/60000]\n",
            "loss: 0.500903  [40016/60000]\n",
            "loss: 0.335965  [41616/60000]\n",
            "loss: 0.765571  [43216/60000]\n",
            "loss: 0.455165  [44816/60000]\n",
            "loss: 0.335183  [46416/60000]\n",
            "loss: 0.183232  [48016/60000]\n",
            "loss: 0.265514  [49616/60000]\n",
            "loss: 0.123241  [51216/60000]\n",
            "loss: 0.289364  [52816/60000]\n",
            "loss: 0.352064  [54416/60000]\n",
            "loss: 0.111672  [56016/60000]\n",
            "loss: 0.537624  [57616/60000]\n",
            "loss: 0.278420  [59216/60000]\n",
            "Test Error: \n",
            " Accuracy: 86.7%, Avg loss: 0.370667 \n",
            "\n",
            "Epoch 6\n",
            "-------------------------------\n",
            "loss: 0.327032  [   16/60000]\n",
            "loss: 0.242117  [ 1616/60000]\n",
            "loss: 0.310929  [ 3216/60000]\n",
            "loss: 0.302975  [ 4816/60000]\n",
            "loss: 0.150291  [ 6416/60000]\n",
            "loss: 0.518479  [ 8016/60000]\n",
            "loss: 0.474298  [ 9616/60000]\n",
            "loss: 0.191744  [11216/60000]\n",
            "loss: 0.302797  [12816/60000]\n",
            "loss: 0.120833  [14416/60000]\n",
            "loss: 0.814917  [16016/60000]\n",
            "loss: 0.164715  [17616/60000]\n",
            "loss: 0.116568  [19216/60000]\n",
            "loss: 0.586112  [20816/60000]\n",
            "loss: 0.244353  [22416/60000]\n",
            "loss: 0.459934  [24016/60000]\n",
            "loss: 0.388683  [25616/60000]\n",
            "loss: 0.284017  [27216/60000]\n",
            "loss: 0.369728  [28816/60000]\n",
            "loss: 0.182879  [30416/60000]\n",
            "loss: 0.421231  [32016/60000]\n",
            "loss: 0.381654  [33616/60000]\n",
            "loss: 0.142844  [35216/60000]\n",
            "loss: 0.246973  [36816/60000]\n",
            "loss: 0.174563  [38416/60000]\n",
            "loss: 0.507648  [40016/60000]\n",
            "loss: 0.331449  [41616/60000]\n",
            "loss: 0.770787  [43216/60000]\n",
            "loss: 0.448658  [44816/60000]\n",
            "loss: 0.298336  [46416/60000]\n",
            "loss: 0.160526  [48016/60000]\n",
            "loss: 0.266382  [49616/60000]\n",
            "loss: 0.106119  [51216/60000]\n",
            "loss: 0.254506  [52816/60000]\n",
            "loss: 0.340298  [54416/60000]\n",
            "loss: 0.111625  [56016/60000]\n",
            "loss: 0.509672  [57616/60000]\n",
            "loss: 0.248824  [59216/60000]\n",
            "Test Error: \n",
            " Accuracy: 87.1%, Avg loss: 0.362847 \n",
            "\n",
            "Epoch 7\n",
            "-------------------------------\n",
            "loss: 0.322715  [   16/60000]\n",
            "loss: 0.249191  [ 1616/60000]\n",
            "loss: 0.277562  [ 3216/60000]\n",
            "loss: 0.313924  [ 4816/60000]\n",
            "loss: 0.144327  [ 6416/60000]\n",
            "loss: 0.546581  [ 8016/60000]\n",
            "loss: 0.457821  [ 9616/60000]\n",
            "loss: 0.171570  [11216/60000]\n",
            "loss: 0.289393  [12816/60000]\n",
            "loss: 0.118836  [14416/60000]\n",
            "loss: 0.833901  [16016/60000]\n",
            "loss: 0.173518  [17616/60000]\n",
            "loss: 0.104373  [19216/60000]\n",
            "loss: 0.586955  [20816/60000]\n",
            "loss: 0.229530  [22416/60000]\n",
            "loss: 0.421689  [24016/60000]\n",
            "loss: 0.414247  [25616/60000]\n",
            "loss: 0.284025  [27216/60000]\n",
            "loss: 0.355358  [28816/60000]\n",
            "loss: 0.188375  [30416/60000]\n",
            "loss: 0.410335  [32016/60000]\n",
            "loss: 0.364898  [33616/60000]\n",
            "loss: 0.120187  [35216/60000]\n",
            "loss: 0.231258  [36816/60000]\n",
            "loss: 0.158087  [38416/60000]\n",
            "loss: 0.504736  [40016/60000]\n",
            "loss: 0.326958  [41616/60000]\n",
            "loss: 0.761572  [43216/60000]\n",
            "loss: 0.448039  [44816/60000]\n",
            "loss: 0.280689  [46416/60000]\n",
            "loss: 0.150738  [48016/60000]\n",
            "loss: 0.252197  [49616/60000]\n",
            "loss: 0.095594  [51216/60000]\n",
            "loss: 0.225707  [52816/60000]\n",
            "loss: 0.324297  [54416/60000]\n",
            "loss: 0.104083  [56016/60000]\n",
            "loss: 0.494646  [57616/60000]\n",
            "loss: 0.279988  [59216/60000]\n",
            "Test Error: \n",
            " Accuracy: 87.4%, Avg loss: 0.356659 \n",
            "\n",
            "Epoch 8\n",
            "-------------------------------\n",
            "loss: 0.295206  [   16/60000]\n",
            "loss: 0.252303  [ 1616/60000]\n",
            "loss: 0.262465  [ 3216/60000]\n",
            "loss: 0.328148  [ 4816/60000]\n",
            "loss: 0.138955  [ 6416/60000]\n",
            "loss: 0.574043  [ 8016/60000]\n",
            "loss: 0.429724  [ 9616/60000]\n",
            "loss: 0.166300  [11216/60000]\n",
            "loss: 0.296646  [12816/60000]\n",
            "loss: 0.106167  [14416/60000]\n",
            "loss: 0.849765  [16016/60000]\n",
            "loss: 0.155030  [17616/60000]\n",
            "loss: 0.107081  [19216/60000]\n",
            "loss: 0.594600  [20816/60000]\n",
            "loss: 0.220451  [22416/60000]\n",
            "loss: 0.404779  [24016/60000]\n",
            "loss: 0.408871  [25616/60000]\n",
            "loss: 0.281801  [27216/60000]\n",
            "loss: 0.336384  [28816/60000]\n",
            "loss: 0.181741  [30416/60000]\n",
            "loss: 0.379287  [32016/60000]\n",
            "loss: 0.328766  [33616/60000]\n",
            "loss: 0.109555  [35216/60000]\n",
            "loss: 0.213032  [36816/60000]\n",
            "loss: 0.144189  [38416/60000]\n",
            "loss: 0.511350  [40016/60000]\n",
            "loss: 0.315482  [41616/60000]\n",
            "loss: 0.731310  [43216/60000]\n",
            "loss: 0.438799  [44816/60000]\n",
            "loss: 0.274894  [46416/60000]\n",
            "loss: 0.136831  [48016/60000]\n",
            "loss: 0.232355  [49616/60000]\n",
            "loss: 0.083892  [51216/60000]\n",
            "loss: 0.215261  [52816/60000]\n",
            "loss: 0.327554  [54416/60000]\n",
            "loss: 0.104610  [56016/60000]\n",
            "loss: 0.456288  [57616/60000]\n",
            "loss: 0.268198  [59216/60000]\n",
            "Test Error: \n",
            " Accuracy: 87.7%, Avg loss: 0.350507 \n",
            "\n",
            "Epoch 9\n",
            "-------------------------------\n",
            "loss: 0.280030  [   16/60000]\n",
            "loss: 0.235916  [ 1616/60000]\n",
            "loss: 0.239030  [ 3216/60000]\n",
            "loss: 0.326157  [ 4816/60000]\n",
            "loss: 0.143602  [ 6416/60000]\n",
            "loss: 0.594357  [ 8016/60000]\n",
            "loss: 0.413369  [ 9616/60000]\n",
            "loss: 0.154652  [11216/60000]\n",
            "loss: 0.285446  [12816/60000]\n",
            "loss: 0.104068  [14416/60000]\n",
            "loss: 0.860679  [16016/60000]\n",
            "loss: 0.155321  [17616/60000]\n",
            "loss: 0.091634  [19216/60000]\n",
            "loss: 0.592887  [20816/60000]\n",
            "loss: 0.214503  [22416/60000]\n",
            "loss: 0.379688  [24016/60000]\n",
            "loss: 0.395807  [25616/60000]\n",
            "loss: 0.258638  [27216/60000]\n",
            "loss: 0.313653  [28816/60000]\n",
            "loss: 0.182356  [30416/60000]\n",
            "loss: 0.365566  [32016/60000]\n",
            "loss: 0.304229  [33616/60000]\n",
            "loss: 0.103813  [35216/60000]\n",
            "loss: 0.197267  [36816/60000]\n",
            "loss: 0.121056  [38416/60000]\n",
            "loss: 0.492141  [40016/60000]\n",
            "loss: 0.301418  [41616/60000]\n",
            "loss: 0.687374  [43216/60000]\n",
            "loss: 0.432987  [44816/60000]\n",
            "loss: 0.250017  [46416/60000]\n",
            "loss: 0.133025  [48016/60000]\n",
            "loss: 0.229224  [49616/60000]\n",
            "loss: 0.068819  [51216/60000]\n",
            "loss: 0.184621  [52816/60000]\n",
            "loss: 0.302299  [54416/60000]\n",
            "loss: 0.105946  [56016/60000]\n",
            "loss: 0.416044  [57616/60000]\n",
            "loss: 0.274364  [59216/60000]\n",
            "Test Error: \n",
            " Accuracy: 87.8%, Avg loss: 0.347901 \n",
            "\n",
            "Epoch 10\n",
            "-------------------------------\n",
            "loss: 0.273789  [   16/60000]\n",
            "loss: 0.248217  [ 1616/60000]\n",
            "loss: 0.229450  [ 3216/60000]\n",
            "loss: 0.321080  [ 4816/60000]\n",
            "loss: 0.139447  [ 6416/60000]\n",
            "loss: 0.601515  [ 8016/60000]\n",
            "loss: 0.381731  [ 9616/60000]\n",
            "loss: 0.166601  [11216/60000]\n",
            "loss: 0.276860  [12816/60000]\n",
            "loss: 0.094575  [14416/60000]\n",
            "loss: 0.875398  [16016/60000]\n",
            "loss: 0.143979  [17616/60000]\n",
            "loss: 0.092302  [19216/60000]\n",
            "loss: 0.587268  [20816/60000]\n",
            "loss: 0.213915  [22416/60000]\n",
            "loss: 0.343376  [24016/60000]\n",
            "loss: 0.404798  [25616/60000]\n",
            "loss: 0.239452  [27216/60000]\n",
            "loss: 0.282910  [28816/60000]\n",
            "loss: 0.181477  [30416/60000]\n",
            "loss: 0.341976  [32016/60000]\n",
            "loss: 0.272756  [33616/60000]\n",
            "loss: 0.095889  [35216/60000]\n",
            "loss: 0.175048  [36816/60000]\n",
            "loss: 0.101941  [38416/60000]\n",
            "loss: 0.497790  [40016/60000]\n",
            "loss: 0.283798  [41616/60000]\n",
            "loss: 0.671142  [43216/60000]\n",
            "loss: 0.419691  [44816/60000]\n",
            "loss: 0.232471  [46416/60000]\n",
            "loss: 0.122038  [48016/60000]\n",
            "loss: 0.216370  [49616/60000]\n",
            "loss: 0.059305  [51216/60000]\n",
            "loss: 0.178180  [52816/60000]\n",
            "loss: 0.277673  [54416/60000]\n",
            "loss: 0.113427  [56016/60000]\n",
            "loss: 0.416836  [57616/60000]\n",
            "loss: 0.268895  [59216/60000]\n",
            "Test Error: \n",
            " Accuracy: 88.0%, Avg loss: 0.341947 \n",
            "\n",
            "Done!\n"
          ]
        }
      ],
      "source": [
        "epochs = 10\n",
        "for t in range(epochs):\n",
        "    print(f\"Epoch {t+1}\\n-------------------------------\")\n",
        "    train(train_dataloader, model, loss_fn, optimizer)\n",
        "    test(test_dataloader, model, loss_fn)\n",
        "print(\"Done!\")"
      ]
    },
    {
      "cell_type": "markdown",
      "metadata": {
        "id": "Tq139ts3lVe7"
      },
      "source": [
        "Read more about [Training your model](https://pytorch.org/tutorials/beginner/basics/optimization_tutorial.html).\n"
      ]
    },
    {
      "cell_type": "markdown",
      "metadata": {
        "id": "ypI4fY8wlVe8"
      },
      "source": [
        "------------------------------------------------------------------------\n"
      ]
    },
    {
      "cell_type": "markdown",
      "metadata": {
        "id": "YzrbPbiPlVe8"
      },
      "source": [
        "Saving Models\n",
        "=============\n",
        "\n",
        "A common way to save a model is to serialize the internal state\n",
        "dictionary (containing the model parameters).\n"
      ]
    },
    {
      "cell_type": "code",
      "execution_count": 33,
      "metadata": {
        "id": "dcG6GbMSlVe8",
        "colab": {
          "base_uri": "https://localhost:8080/"
        },
        "outputId": "e18188bd-5727-483c-b99f-bc544da7230f"
      },
      "outputs": [
        {
          "output_type": "stream",
          "name": "stdout",
          "text": [
            "Saved PyTorch Model State to model.pth\n"
          ]
        }
      ],
      "source": [
        "torch.save(model.state_dict(), \"model.pth\")\n",
        "print(\"Saved PyTorch Model State to model.pth\")"
      ]
    },
    {
      "cell_type": "markdown",
      "metadata": {
        "id": "0l2GkbirlVe8"
      },
      "source": [
        "Loading Models\n",
        "==============\n",
        "\n",
        "The process for loading a model includes re-creating the model structure\n",
        "and loading the state dictionary into it.\n"
      ]
    },
    {
      "cell_type": "code",
      "execution_count": 34,
      "metadata": {
        "id": "kfuzZyMTlVe9",
        "colab": {
          "base_uri": "https://localhost:8080/"
        },
        "outputId": "79ecf361-313e-4914-9bea-51757f30487f"
      },
      "outputs": [
        {
          "output_type": "execute_result",
          "data": {
            "text/plain": [
              "<All keys matched successfully>"
            ]
          },
          "metadata": {},
          "execution_count": 34
        }
      ],
      "source": [
        "model = NeuralNetwork().to(device)\n",
        "model.load_state_dict(torch.load(\"model.pth\"))"
      ]
    },
    {
      "cell_type": "markdown",
      "metadata": {
        "id": "8EEJ8xUUlVe9"
      },
      "source": [
        "This model can now be used to make predictions.\n"
      ]
    },
    {
      "cell_type": "code",
      "execution_count": 35,
      "metadata": {
        "id": "qjqrC5LQlVe9",
        "colab": {
          "base_uri": "https://localhost:8080/",
          "height": 1000
        },
        "outputId": "4a76bc43-99f6-4883-93fe-c6326f3be937"
      },
      "outputs": [
        {
          "output_type": "display_data",
          "data": {
            "text/plain": [
              "<Figure size 1600x1600 with 16 Axes>"
            ],
            "image/png": "[encoded data removed]"
          },
          "metadata": {}
        }
      ],
      "source": [
        "model.eval()\n",
        "\n",
        "# Visualize a few test samples along with their predicted classes\n",
        "plt.figure(figsize=(16,16))\n",
        "test_images, test_labels = next(iter(test_dataloader))\n",
        "test_predictions = model(test_images.to(device))\n",
        "predicted_labels = test_predictions.max(1)[1]\n",
        "\n",
        "for i in range(16):\n",
        "    plt.subplot(4, 4, i+1)\n",
        "    plt.imshow(test_images[i].reshape((28, 28)), cmap=\"gray\")\n",
        "    plt.title(\"%s / %s\" % (label_map[int(predicted_labels[i])], label_map[int(test_labels[i])]))"
      ]
    },
    {
      "cell_type": "markdown",
      "metadata": {
        "id": "BaUHWHJQlVe9"
      },
      "source": [
        "Read more about [Saving & Loading your\n",
        "model](https://pytorch.org/tutorials/beginner/basics/saveloadrun_tutorial.html).\n"
      ]
    },
    {
      "cell_type": "markdown",
      "source": [
        "Convolutional Neural Networks\n",
        "---\n",
        "\n",
        "For image data, convolutional layers usually help to extract better features compared to linear layers. Let's try implementing a convolutional neural network in PyTorch and compare its performance to the neural network with only fully connected layers"
      ],
      "metadata": {
        "id": "bdEUeRNW8ACH"
      }
    },
    {
      "cell_type": "code",
      "source": [
        "# Get cpu, gpu or mps device for training.\n",
        "device = \"cuda\"\n",
        "print(f\"Using {device} device\")\n",
        "\n",
        "import torch.nn as nn\n",
        "import torch.nn.functional as F\n",
        "\n",
        "# Define model\n",
        "class NeuralNetwork(nn.Module):\n",
        "    def __init__(self):\n",
        "        super().__init__()\n",
        "        self.conv1 = nn.Conv2d(1, 10, kernel_size=5)\n",
        "        self.conv2 = nn.Conv2d(10, 20, kernel_size=5)\n",
        "        self.conv2_drop = nn.Dropout2d()\n",
        "        self.fc1 = nn.Linear(320, 50)\n",
        "        self.fc2 = nn.Linear(50, 10)\n",
        "\n",
        "    def forward(self, x):\n",
        "        x = F.relu(F.max_pool2d(self.conv1(x), 2))\n",
        "        x = F.relu(F.max_pool2d(self.conv2_drop(self.conv2(x)), 2))\n",
        "        x = x.view(-1, 320)\n",
        "        x = F.relu(self.fc1(x))\n",
        "        x = self.fc2(x)\n",
        "        return x\n",
        "\n",
        "model = NeuralNetwork().to(device)\n",
        "print(model)"
      ],
      "metadata": {
        "id": "DZwgXMNF8AWs",
        "colab": {
          "base_uri": "https://localhost:8080/"
        },
        "outputId": "eea0a5c1-ce15-40a9-e401-fcc029b9bec6"
      },
      "execution_count": 36,
      "outputs": [
        {
          "output_type": "stream",
          "name": "stdout",
          "text": [
            "Using cuda device\n",
            "NeuralNetwork(\n",
            "  (conv1): Conv2d(1, 10, kernel_size=(5, 5), stride=(1, 1))\n",
            "  (conv2): Conv2d(10, 20, kernel_size=(5, 5), stride=(1, 1))\n",
            "  (conv2_drop): Dropout2d(p=0.5, inplace=False)\n",
            "  (fc1): Linear(in_features=320, out_features=50, bias=True)\n",
            "  (fc2): Linear(in_features=50, out_features=10, bias=True)\n",
            ")\n"
          ]
        }
      ]
    },
    {
      "cell_type": "code",
      "source": [
        "loss_fn = nn.CrossEntropyLoss()\n",
        "optimizer = torch.optim.SGD(model.parameters(), lr=0.01, momentum=0.5)"
      ],
      "metadata": {
        "id": "BRZ3FuXGDumo"
      },
      "execution_count": 37,
      "outputs": []
    },
    {
      "cell_type": "code",
      "source": [
        "epochs = 10\n",
        "for t in range(epochs):\n",
        "    print(f\"Epoch {t+1}\\n-------------------------------\")\n",
        "    train(train_dataloader, model, loss_fn, optimizer)\n",
        "    test(test_dataloader, model, loss_fn)\n",
        "print(\"Done!\")"
      ],
      "metadata": {
        "id": "SdJ7tuX9DYRt",
        "colab": {
          "base_uri": "https://localhost:8080/"
        },
        "outputId": "770e6038-a9c1-48cb-eaea-ce3ba6195236"
      },
      "execution_count": 38,
      "outputs": [
        {
          "output_type": "stream",
          "name": "stdout",
          "text": [
            "Epoch 1\n",
            "-------------------------------\n",
            "loss: 2.273341  [   16/60000]\n",
            "loss: 2.269574  [ 1616/60000]\n",
            "loss: 1.705978  [ 3216/60000]\n",
            "loss: 1.187400  [ 4816/60000]\n",
            "loss: 0.943996  [ 6416/60000]\n",
            "loss: 1.473776  [ 8016/60000]\n",
            "loss: 1.230680  [ 9616/60000]\n",
            "loss: 0.602178  [11216/60000]\n",
            "loss: 0.811125  [12816/60000]\n",
            "loss: 0.463779  [14416/60000]\n",
            "loss: 0.915478  [16016/60000]\n",
            "loss: 0.784552  [17616/60000]\n",
            "loss: 0.682925  [19216/60000]\n",
            "loss: 1.395565  [20816/60000]\n",
            "loss: 0.891601  [22416/60000]\n",
            "loss: 0.769411  [24016/60000]\n",
            "loss: 0.856242  [25616/60000]\n",
            "loss: 0.944960  [27216/60000]\n",
            "loss: 1.067055  [28816/60000]\n",
            "loss: 0.649668  [30416/60000]\n",
            "loss: 0.926298  [32016/60000]\n",
            "loss: 0.505265  [33616/60000]\n",
            "loss: 0.446837  [35216/60000]\n",
            "loss: 0.554246  [36816/60000]\n",
            "loss: 0.713525  [38416/60000]\n",
            "loss: 0.616527  [40016/60000]\n",
            "loss: 0.727377  [41616/60000]\n",
            "loss: 0.706571  [43216/60000]\n",
            "loss: 0.658041  [44816/60000]\n",
            "loss: 0.651247  [46416/60000]\n",
            "loss: 0.412288  [48016/60000]\n",
            "loss: 0.383850  [49616/60000]\n",
            "loss: 0.415937  [51216/60000]\n",
            "loss: 0.602546  [52816/60000]\n",
            "loss: 0.570898  [54416/60000]\n",
            "loss: 1.110463  [56016/60000]\n",
            "loss: 0.864698  [57616/60000]\n",
            "loss: 0.394425  [59216/60000]\n",
            "Test Error: \n",
            " Accuracy: 79.2%, Avg loss: 0.550381 \n",
            "\n",
            "Epoch 2\n",
            "-------------------------------\n",
            "loss: 0.811253  [   16/60000]\n",
            "loss: 0.576231  [ 1616/60000]\n",
            "loss: 0.410645  [ 3216/60000]\n",
            "loss: 0.524292  [ 4816/60000]\n",
            "loss: 0.594931  [ 6416/60000]\n",
            "loss: 0.802647  [ 8016/60000]\n",
            "loss: 0.536175  [ 9616/60000]\n",
            "loss: 0.441269  [11216/60000]\n",
            "loss: 0.503136  [12816/60000]\n",
            "loss: 0.284907  [14416/60000]\n",
            "loss: 1.052302  [16016/60000]\n",
            "loss: 0.424479  [17616/60000]\n",
            "loss: 0.319981  [19216/60000]\n",
            "loss: 0.851469  [20816/60000]\n",
            "loss: 0.395696  [22416/60000]\n",
            "loss: 0.746689  [24016/60000]\n",
            "loss: 0.540755  [25616/60000]\n",
            "loss: 0.864994  [27216/60000]\n",
            "loss: 0.605123  [28816/60000]\n",
            "loss: 0.499323  [30416/60000]\n",
            "loss: 0.810649  [32016/60000]\n",
            "loss: 0.378163  [33616/60000]\n",
            "loss: 0.472548  [35216/60000]\n",
            "loss: 0.562699  [36816/60000]\n",
            "loss: 0.413121  [38416/60000]\n",
            "loss: 0.430817  [40016/60000]\n",
            "loss: 0.595705  [41616/60000]\n",
            "loss: 0.888684  [43216/60000]\n",
            "loss: 0.513923  [44816/60000]\n",
            "loss: 0.685489  [46416/60000]\n",
            "loss: 0.388553  [48016/60000]\n",
            "loss: 0.402267  [49616/60000]\n",
            "loss: 0.331055  [51216/60000]\n",
            "loss: 0.478162  [52816/60000]\n",
            "loss: 0.647859  [54416/60000]\n",
            "loss: 0.478475  [56016/60000]\n",
            "loss: 0.552161  [57616/60000]\n",
            "loss: 0.694953  [59216/60000]\n",
            "Test Error: \n",
            " Accuracy: 83.1%, Avg loss: 0.466742 \n",
            "\n",
            "Epoch 3\n",
            "-------------------------------\n",
            "loss: 0.435135  [   16/60000]\n",
            "loss: 0.566249  [ 1616/60000]\n",
            "loss: 0.420648  [ 3216/60000]\n",
            "loss: 0.265026  [ 4816/60000]\n",
            "loss: 0.357870  [ 6416/60000]\n",
            "loss: 0.750683  [ 8016/60000]\n",
            "loss: 0.561069  [ 9616/60000]\n",
            "loss: 0.186496  [11216/60000]\n",
            "loss: 0.522798  [12816/60000]\n",
            "loss: 0.185232  [14416/60000]\n",
            "loss: 0.825118  [16016/60000]\n",
            "loss: 0.323913  [17616/60000]\n",
            "loss: 0.190293  [19216/60000]\n",
            "loss: 0.922270  [20816/60000]\n",
            "loss: 0.393308  [22416/60000]\n",
            "loss: 0.595256  [24016/60000]\n",
            "loss: 0.276326  [25616/60000]\n",
            "loss: 0.543360  [27216/60000]\n",
            "loss: 0.556961  [28816/60000]\n",
            "loss: 0.400272  [30416/60000]\n",
            "loss: 0.766372  [32016/60000]\n",
            "loss: 0.160343  [33616/60000]\n",
            "loss: 0.271061  [35216/60000]\n",
            "loss: 0.293342  [36816/60000]\n",
            "loss: 0.416128  [38416/60000]\n",
            "loss: 0.527036  [40016/60000]\n",
            "loss: 0.653594  [41616/60000]\n",
            "loss: 0.493349  [43216/60000]\n",
            "loss: 0.422962  [44816/60000]\n",
            "loss: 0.396934  [46416/60000]\n",
            "loss: 0.501593  [48016/60000]\n",
            "loss: 0.424813  [49616/60000]\n",
            "loss: 0.223008  [51216/60000]\n",
            "loss: 0.549688  [52816/60000]\n",
            "loss: 0.554481  [54416/60000]\n",
            "loss: 0.368648  [56016/60000]\n",
            "loss: 0.485859  [57616/60000]\n",
            "loss: 0.352561  [59216/60000]\n",
            "Test Error: \n",
            " Accuracy: 85.3%, Avg loss: 0.404575 \n",
            "\n",
            "Epoch 4\n",
            "-------------------------------\n",
            "loss: 0.483605  [   16/60000]\n",
            "loss: 0.347434  [ 1616/60000]\n",
            "loss: 0.416443  [ 3216/60000]\n",
            "loss: 0.405272  [ 4816/60000]\n",
            "loss: 0.331228  [ 6416/60000]\n",
            "loss: 0.653692  [ 8016/60000]\n",
            "loss: 0.491636  [ 9616/60000]\n",
            "loss: 0.244722  [11216/60000]\n",
            "loss: 0.432441  [12816/60000]\n",
            "loss: 0.138062  [14416/60000]\n",
            "loss: 1.072267  [16016/60000]\n",
            "loss: 0.286802  [17616/60000]\n",
            "loss: 0.199414  [19216/60000]\n",
            "loss: 0.577852  [20816/60000]\n",
            "loss: 0.331442  [22416/60000]\n",
            "loss: 0.523487  [24016/60000]\n",
            "loss: 0.356370  [25616/60000]\n",
            "loss: 0.576843  [27216/60000]\n",
            "loss: 0.668750  [28816/60000]\n",
            "loss: 0.339758  [30416/60000]\n",
            "loss: 0.543189  [32016/60000]\n",
            "loss: 0.195577  [33616/60000]\n",
            "loss: 0.309928  [35216/60000]\n",
            "loss: 0.358567  [36816/60000]\n",
            "loss: 0.304897  [38416/60000]\n",
            "loss: 0.696906  [40016/60000]\n",
            "loss: 0.572209  [41616/60000]\n",
            "loss: 0.595580  [43216/60000]\n",
            "loss: 0.337639  [44816/60000]\n",
            "loss: 0.382338  [46416/60000]\n",
            "loss: 0.229809  [48016/60000]\n",
            "loss: 0.433565  [49616/60000]\n",
            "loss: 0.107184  [51216/60000]\n",
            "loss: 0.380159  [52816/60000]\n",
            "loss: 0.524268  [54416/60000]\n",
            "loss: 0.258264  [56016/60000]\n",
            "loss: 0.523022  [57616/60000]\n",
            "loss: 0.264012  [59216/60000]\n",
            "Test Error: \n",
            " Accuracy: 86.4%, Avg loss: 0.373911 \n",
            "\n",
            "Epoch 5\n",
            "-------------------------------\n",
            "loss: 0.469122  [   16/60000]\n",
            "loss: 0.512930  [ 1616/60000]\n",
            "loss: 0.442798  [ 3216/60000]\n",
            "loss: 0.281825  [ 4816/60000]\n",
            "loss: 0.301348  [ 6416/60000]\n",
            "loss: 1.064958  [ 8016/60000]\n",
            "loss: 0.443806  [ 9616/60000]\n",
            "loss: 0.173507  [11216/60000]\n",
            "loss: 0.353122  [12816/60000]\n",
            "loss: 0.104597  [14416/60000]\n",
            "loss: 0.886757  [16016/60000]\n",
            "loss: 0.196133  [17616/60000]\n",
            "loss: 0.175433  [19216/60000]\n",
            "loss: 0.698931  [20816/60000]\n",
            "loss: 0.322995  [22416/60000]\n",
            "loss: 0.441094  [24016/60000]\n",
            "loss: 0.339312  [25616/60000]\n",
            "loss: 0.435646  [27216/60000]\n",
            "loss: 0.445783  [28816/60000]\n",
            "loss: 0.267001  [30416/60000]\n",
            "loss: 0.608084  [32016/60000]\n",
            "loss: 0.134379  [33616/60000]\n",
            "loss: 0.234612  [35216/60000]\n",
            "loss: 0.432497  [36816/60000]\n",
            "loss: 0.354077  [38416/60000]\n",
            "loss: 0.449828  [40016/60000]\n",
            "loss: 0.543895  [41616/60000]\n",
            "loss: 0.801553  [43216/60000]\n",
            "loss: 0.395502  [44816/60000]\n",
            "loss: 0.386385  [46416/60000]\n",
            "loss: 0.259727  [48016/60000]\n",
            "loss: 0.335995  [49616/60000]\n",
            "loss: 0.219377  [51216/60000]\n",
            "loss: 0.308441  [52816/60000]\n",
            "loss: 0.435357  [54416/60000]\n",
            "loss: 0.259088  [56016/60000]\n",
            "loss: 0.524062  [57616/60000]\n",
            "loss: 0.400179  [59216/60000]\n",
            "Test Error: \n",
            " Accuracy: 87.3%, Avg loss: 0.355897 \n",
            "\n",
            "Epoch 6\n",
            "-------------------------------\n",
            "loss: 0.495658  [   16/60000]\n",
            "loss: 0.471297  [ 1616/60000]\n",
            "loss: 0.353583  [ 3216/60000]\n",
            "loss: 0.397200  [ 4816/60000]\n",
            "loss: 0.238965  [ 6416/60000]\n",
            "loss: 0.709686  [ 8016/60000]\n",
            "loss: 0.313492  [ 9616/60000]\n",
            "loss: 0.322049  [11216/60000]\n",
            "loss: 0.340115  [12816/60000]\n",
            "loss: 0.123054  [14416/60000]\n",
            "loss: 1.059225  [16016/60000]\n",
            "loss: 0.179751  [17616/60000]\n",
            "loss: 0.180741  [19216/60000]\n",
            "loss: 0.621443  [20816/60000]\n",
            "loss: 0.223474  [22416/60000]\n",
            "loss: 0.585432  [24016/60000]\n",
            "loss: 0.312645  [25616/60000]\n",
            "loss: 0.340843  [27216/60000]\n",
            "loss: 0.798152  [28816/60000]\n",
            "loss: 0.216722  [30416/60000]\n",
            "loss: 0.613543  [32016/60000]\n",
            "loss: 0.149707  [33616/60000]\n",
            "loss: 0.350171  [35216/60000]\n",
            "loss: 0.426733  [36816/60000]\n",
            "loss: 0.153962  [38416/60000]\n",
            "loss: 0.458766  [40016/60000]\n",
            "loss: 0.301336  [41616/60000]\n",
            "loss: 0.462174  [43216/60000]\n",
            "loss: 0.380230  [44816/60000]\n",
            "loss: 0.380321  [46416/60000]\n",
            "loss: 0.212738  [48016/60000]\n",
            "loss: 0.428222  [49616/60000]\n",
            "loss: 0.293422  [51216/60000]\n",
            "loss: 0.220349  [52816/60000]\n",
            "loss: 0.282128  [54416/60000]\n",
            "loss: 0.207934  [56016/60000]\n",
            "loss: 0.490541  [57616/60000]\n",
            "loss: 0.451793  [59216/60000]\n",
            "Test Error: \n",
            " Accuracy: 87.9%, Avg loss: 0.339097 \n",
            "\n",
            "Epoch 7\n",
            "-------------------------------\n",
            "loss: 0.507801  [   16/60000]\n",
            "loss: 0.496154  [ 1616/60000]\n",
            "loss: 0.321461  [ 3216/60000]\n",
            "loss: 0.191504  [ 4816/60000]\n",
            "loss: 0.309007  [ 6416/60000]\n",
            "loss: 0.618908  [ 8016/60000]\n",
            "loss: 0.367409  [ 9616/60000]\n",
            "loss: 0.216163  [11216/60000]\n",
            "loss: 0.290532  [12816/60000]\n",
            "loss: 0.155162  [14416/60000]\n",
            "loss: 0.891540  [16016/60000]\n",
            "loss: 0.201811  [17616/60000]\n",
            "loss: 0.141330  [19216/60000]\n",
            "loss: 0.764995  [20816/60000]\n",
            "loss: 0.432039  [22416/60000]\n",
            "loss: 0.588405  [24016/60000]\n",
            "loss: 0.269482  [25616/60000]\n",
            "loss: 0.442324  [27216/60000]\n",
            "loss: 0.487172  [28816/60000]\n",
            "loss: 0.277076  [30416/60000]\n",
            "loss: 0.543489  [32016/60000]\n",
            "loss: 0.103876  [33616/60000]\n",
            "loss: 0.247378  [35216/60000]\n",
            "loss: 0.335488  [36816/60000]\n",
            "loss: 0.351113  [38416/60000]\n",
            "loss: 0.442223  [40016/60000]\n",
            "loss: 0.334953  [41616/60000]\n",
            "loss: 0.414771  [43216/60000]\n",
            "loss: 0.679260  [44816/60000]\n",
            "loss: 0.567931  [46416/60000]\n",
            "loss: 0.217928  [48016/60000]\n",
            "loss: 0.350975  [49616/60000]\n",
            "loss: 0.119571  [51216/60000]\n",
            "loss: 0.337715  [52816/60000]\n",
            "loss: 0.599389  [54416/60000]\n",
            "loss: 0.248240  [56016/60000]\n",
            "loss: 0.512991  [57616/60000]\n",
            "loss: 0.261075  [59216/60000]\n",
            "Test Error: \n",
            " Accuracy: 87.4%, Avg loss: 0.340632 \n",
            "\n",
            "Epoch 8\n",
            "-------------------------------\n",
            "loss: 0.266716  [   16/60000]\n",
            "loss: 0.455927  [ 1616/60000]\n",
            "loss: 0.311100  [ 3216/60000]\n",
            "loss: 0.172430  [ 4816/60000]\n",
            "loss: 0.351358  [ 6416/60000]\n",
            "loss: 0.882038  [ 8016/60000]\n",
            "loss: 0.581542  [ 9616/60000]\n",
            "loss: 0.277275  [11216/60000]\n",
            "loss: 0.323948  [12816/60000]\n",
            "loss: 0.237340  [14416/60000]\n",
            "loss: 1.167259  [16016/60000]\n",
            "loss: 0.218588  [17616/60000]\n",
            "loss: 0.158542  [19216/60000]\n",
            "loss: 0.567714  [20816/60000]\n",
            "loss: 0.231861  [22416/60000]\n",
            "loss: 0.768554  [24016/60000]\n",
            "loss: 0.399452  [25616/60000]\n",
            "loss: 0.230465  [27216/60000]\n",
            "loss: 0.523751  [28816/60000]\n",
            "loss: 0.300071  [30416/60000]\n",
            "loss: 0.657471  [32016/60000]\n",
            "loss: 0.158827  [33616/60000]\n",
            "loss: 0.488867  [35216/60000]\n",
            "loss: 0.349898  [36816/60000]\n",
            "loss: 0.053320  [38416/60000]\n",
            "loss: 0.237253  [40016/60000]\n",
            "loss: 0.352673  [41616/60000]\n",
            "loss: 0.463167  [43216/60000]\n",
            "loss: 0.581721  [44816/60000]\n",
            "loss: 0.269708  [46416/60000]\n",
            "loss: 0.105350  [48016/60000]\n",
            "loss: 0.383364  [49616/60000]\n",
            "loss: 0.199865  [51216/60000]\n",
            "loss: 0.283781  [52816/60000]\n",
            "loss: 0.484782  [54416/60000]\n",
            "loss: 0.230442  [56016/60000]\n",
            "loss: 0.527778  [57616/60000]\n",
            "loss: 0.493866  [59216/60000]\n",
            "Test Error: \n",
            " Accuracy: 88.4%, Avg loss: 0.321052 \n",
            "\n",
            "Epoch 9\n",
            "-------------------------------\n",
            "loss: 0.239919  [   16/60000]\n",
            "loss: 0.427378  [ 1616/60000]\n",
            "loss: 0.447109  [ 3216/60000]\n",
            "loss: 0.179781  [ 4816/60000]\n",
            "loss: 0.192428  [ 6416/60000]\n",
            "loss: 0.436193  [ 8016/60000]\n",
            "loss: 0.618518  [ 9616/60000]\n",
            "loss: 0.337813  [11216/60000]\n",
            "loss: 0.253042  [12816/60000]\n",
            "loss: 0.120824  [14416/60000]\n",
            "loss: 1.134068  [16016/60000]\n",
            "loss: 0.227014  [17616/60000]\n",
            "loss: 0.191697  [19216/60000]\n",
            "loss: 0.692077  [20816/60000]\n",
            "loss: 0.372457  [22416/60000]\n",
            "loss: 0.584085  [24016/60000]\n",
            "loss: 0.243442  [25616/60000]\n",
            "loss: 0.328083  [27216/60000]\n",
            "loss: 0.431665  [28816/60000]\n",
            "loss: 0.207313  [30416/60000]\n",
            "loss: 0.460739  [32016/60000]\n",
            "loss: 0.083315  [33616/60000]\n",
            "loss: 0.294919  [35216/60000]\n",
            "loss: 0.273089  [36816/60000]\n",
            "loss: 0.044259  [38416/60000]\n",
            "loss: 0.673599  [40016/60000]\n",
            "loss: 0.403448  [41616/60000]\n",
            "loss: 0.451263  [43216/60000]\n",
            "loss: 0.502179  [44816/60000]\n",
            "loss: 0.428718  [46416/60000]\n",
            "loss: 0.126941  [48016/60000]\n",
            "loss: 0.331200  [49616/60000]\n",
            "loss: 0.150146  [51216/60000]\n",
            "loss: 0.214459  [52816/60000]\n",
            "loss: 0.327657  [54416/60000]\n",
            "loss: 0.199339  [56016/60000]\n",
            "loss: 0.367558  [57616/60000]\n",
            "loss: 0.354727  [59216/60000]\n",
            "Test Error: \n",
            " Accuracy: 88.4%, Avg loss: 0.318670 \n",
            "\n",
            "Epoch 10\n",
            "-------------------------------\n",
            "loss: 0.375830  [   16/60000]\n",
            "loss: 0.421144  [ 1616/60000]\n",
            "loss: 0.345000  [ 3216/60000]\n",
            "loss: 0.231984  [ 4816/60000]\n",
            "loss: 0.199477  [ 6416/60000]\n",
            "loss: 0.573207  [ 8016/60000]\n",
            "loss: 0.433164  [ 9616/60000]\n",
            "loss: 0.310148  [11216/60000]\n",
            "loss: 0.206715  [12816/60000]\n",
            "loss: 0.120604  [14416/60000]\n",
            "loss: 0.671874  [16016/60000]\n",
            "loss: 0.166695  [17616/60000]\n",
            "loss: 0.190511  [19216/60000]\n",
            "loss: 0.534598  [20816/60000]\n",
            "loss: 0.266869  [22416/60000]\n",
            "loss: 0.383982  [24016/60000]\n",
            "loss: 0.193052  [25616/60000]\n",
            "loss: 0.321165  [27216/60000]\n",
            "loss: 0.324443  [28816/60000]\n",
            "loss: 0.454752  [30416/60000]\n",
            "loss: 0.541444  [32016/60000]\n",
            "loss: 0.048816  [33616/60000]\n",
            "loss: 0.288335  [35216/60000]\n",
            "loss: 0.321168  [36816/60000]\n",
            "loss: 0.109140  [38416/60000]\n",
            "loss: 0.508382  [40016/60000]\n",
            "loss: 0.375739  [41616/60000]\n",
            "loss: 0.273078  [43216/60000]\n",
            "loss: 0.407961  [44816/60000]\n",
            "loss: 0.455169  [46416/60000]\n",
            "loss: 0.176995  [48016/60000]\n",
            "loss: 0.329081  [49616/60000]\n",
            "loss: 0.120632  [51216/60000]\n",
            "loss: 0.183400  [52816/60000]\n",
            "loss: 0.648478  [54416/60000]\n",
            "loss: 0.368717  [56016/60000]\n",
            "loss: 0.410030  [57616/60000]\n",
            "loss: 0.221939  [59216/60000]\n",
            "Test Error: \n",
            " Accuracy: 88.5%, Avg loss: 0.313564 \n",
            "\n",
            "Done!\n"
          ]
        }
      ]
    },
    {
      "cell_type": "code",
      "source": [
        "model.eval()\n",
        "\n",
        "# Visualize a few test samples along with their predicted classes\n",
        "plt.figure(figsize=(16,16))\n",
        "test_images, test_labels = next(iter(test_dataloader))\n",
        "test_predictions = model(test_images.to(device))\n",
        "predicted_labels = test_predictions.max(1)[1]\n",
        "\n",
        "for i in range(16):\n",
        "    plt.subplot(4, 4, i+1)\n",
        "    plt.imshow(test_images[i].reshape((28, 28)), cmap=\"gray\")\n",
        "    plt.title(\"%s / %s\" % (label_map[int(predicted_labels[i])], label_map[int(test_labels[i])]))"
      ],
      "metadata": {
        "id": "qAvwv2zqECYB",
        "colab": {
          "base_uri": "https://localhost:8080/",
          "height": 1000
        },
        "outputId": "fd231da6-4ac7-4208-a259-a291fd4e546d"
      },
      "execution_count": 39,
      "outputs": [
        {
          "output_type": "display_data",
          "data": {
            "text/plain": [
              "<Figure size 1600x1600 with 16 Axes>"
            ],
            "image/png": "[encoded data removed]"
          },
          "metadata": {}
        }
      ]
    }
  ],
  "metadata": {
    "kernelspec": {
      "display_name": "Python 3",
      "name": "python3"
    },
    "language_info": {
      "codemirror_mode": {
        "name": "ipython",
        "version": 3
      },
      "file_extension": ".py",
      "mimetype": "text/x-python",
      "name": "python",
      "nbconvert_exporter": "python",
      "pygments_lexer": "ipython3",
      "version": "3.10.14"
    },
    "colab": {
      "provenance": [],
      "gpuType": "T4"
    },
    "accelerator": "GPU"
  },
  "nbformat": 4,
  "nbformat_minor": 0
}